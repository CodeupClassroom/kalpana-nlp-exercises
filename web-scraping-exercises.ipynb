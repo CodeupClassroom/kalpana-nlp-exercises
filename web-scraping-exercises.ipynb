{
 "cells": [
  {
   "cell_type": "markdown",
   "id": "ff035687",
   "metadata": {},
   "source": [
    "# Web scraping exercises"
   ]
  },
  {
   "cell_type": "code",
   "execution_count": 1,
   "id": "e8b612eb",
   "metadata": {},
   "outputs": [
    {
     "data": {
      "application/javascript": [
       "IPython.notebook.set_autosave_interval(0)"
      ]
     },
     "metadata": {},
     "output_type": "display_data"
    },
    {
     "name": "stdout",
     "output_type": "stream",
     "text": [
      "Autosave disabled\n"
     ]
    }
   ],
   "source": [
    "#Disable autosave\n",
    "%autosave 0"
   ]
  },
  {
   "cell_type": "code",
   "execution_count": 2,
   "id": "f9469709",
   "metadata": {},
   "outputs": [],
   "source": [
    "#Import dependencies\n",
    "from requests import get\n",
    "from bs4 import BeautifulSoup\n",
    "import pandas as pd\n",
    "import re\n",
    "import os\n",
    "import json"
   ]
  },
  {
   "cell_type": "markdown",
   "id": "7e4bdda8",
   "metadata": {},
   "source": [
    "## Exercise 1\n",
    "\n",
    "Codeup Blog Articles\n",
    "\n",
    "Visit [Codeup's Blog](https://codeup.com/blog/) and record the urls for at least 5 distinct blog posts. For each post, you should scrape at least the post's title and content.\n",
    "\n",
    "Encapsulate your work in a function named get_blog_articles that will return a list of dictionaries, with each dictionary representing one article."
   ]
  },
  {
   "cell_type": "markdown",
   "id": "7a1d7134",
   "metadata": {},
   "source": [
    "URLs for blog posts:  \n",
    "https://codeup.com/data-science/recession-proof-career/  \n",
    "https://codeup.com/codeup-news/codeup-x-comic-con/  \n",
    "https://codeup.com/featured/series-part-3-web-development/  \n",
    "https://codeup.com/codeup-news/codeup-dallas-campus/  \n",
    "https://codeup.com/codeup-news/codeup-tv-commercial/"
   ]
  },
  {
   "cell_type": "code",
   "execution_count": 3,
   "id": "42ee4bac",
   "metadata": {},
   "outputs": [],
   "source": [
    "#Define headers\n",
    "headers = {'User-Agent': 'Codeup Data Science'}"
   ]
  },
  {
   "cell_type": "code",
   "execution_count": 4,
   "id": "b964b5e4",
   "metadata": {},
   "outputs": [],
   "source": [
    "#Make a request\n",
    "response = get('https://codeup.com/data-science/recession-proof-career/', headers=headers)"
   ]
  },
  {
   "cell_type": "code",
   "execution_count": 5,
   "id": "af72e09e",
   "metadata": {},
   "outputs": [
    {
     "data": {
      "text/plain": [
       "'Is a Career in Tech Recession-Proof?'"
      ]
     },
     "execution_count": 5,
     "metadata": {},
     "output_type": "execute_result"
    }
   ],
   "source": [
    "#Create the soup and investigate\n",
    "soup = BeautifulSoup(response.content, 'html.parser')\n",
    "example = soup.find('h1')\n",
    "example.text"
   ]
  },
  {
   "cell_type": "code",
   "execution_count": 6,
   "id": "3c669f29",
   "metadata": {},
   "outputs": [
    {
     "data": {
      "text/plain": [
       "'Aug 12, 2022'"
      ]
     },
     "execution_count": 6,
     "metadata": {},
     "output_type": "execute_result"
    }
   ],
   "source": [
    "#Access the date published\n",
    "example2 = soup.find('span', class_='published')\n",
    "example2.text"
   ]
  },
  {
   "cell_type": "code",
   "execution_count": 7,
   "id": "067cfc03",
   "metadata": {},
   "outputs": [
    {
     "data": {
      "text/plain": [
       "'\\nGiven the current economic climate, many economists are considering the U.S. to be entering a recession. This can cause confusion, fear, and uncertainty, especially as it pertains to job security.\\nTo ease some of those feelings, below you’ll find some careers in tech that tend to hold up better than others amid a recession. In the event of a recession, companies will likely shift to digital strategies, making these careers in tech valuable and highly coveted.\\n\\xa0\\n\\n\\nProgrammer/Developer\\nNo matter the programming language you’ve mastered, having the knowledge alone makes you extremely valuable. The coding skills you possess as a programmer or developer are in-demand for companies looking to build or enhance their websites, and enhance their consumer experience. According to the U.S. Bureau of Labor Statistics, jobs in software development are expected to grow 22% by 2030. This is much faster than the average career.\\n\\n\\xa0\\n\\n\\nCloud Administrator\\nMore businesses are transitioning to cloud servers and this increase sparks the need for cloud administrators to maintain and update the cloud infrastructure. Amid a recession, it is likely that efforts regarding security will be heightened as company strategies shift digitally, and managing a more secure server will be the responsibility of the cloud administrator.\\n\\n\\xa0\\n\\n\\nData Analyst\\nDuring a recession, the need to preserve and monitor data, as well as use data to make predictions to drive a business’ initiatives will be heightened. Data analysts would be relied on heavily to study the data presented and interpret it to solve any current or future problems.\\n\\nThe three positions mentioned above can all be obtained after you complete one of our bootcamps, and take as little as 15 to 20 weeks to complete. Upon successful completion, if you do not land a job in-field within 6 months of graduating from a Codeup program, we will refund your paid tuition back to you.*\\n\\xa0\\nCodeup Programs\\nCodeup is a Texas-based career accelerator, built to help you transition to a career in tech seamlessly, and be well-equipped to succeed in your new role. We offer three different programs: Full-Stack Web Development, Cloud Administration, and Data Science. You can learn more about each of them here or by requesting more information on any that may interest you.\\nIf you have any hesitation about changing your career, or about any of our programs please reach out to us. We would love to help you find the program that best suits your needs and interests. Give us a call today at (210) 802- 7289.\\n*See tuition refund details and specifications here.\\n'"
      ]
     },
     "execution_count": 7,
     "metadata": {},
     "output_type": "execute_result"
    }
   ],
   "source": [
    "#Access the article content\n",
    "example3 = soup.find('div', class_='entry-content')\n",
    "example3.text"
   ]
  },
  {
   "cell_type": "code",
   "execution_count": 8,
   "id": "f9d9fd8d",
   "metadata": {},
   "outputs": [],
   "source": [
    "#Create a list of links to scrape\n",
    "links = ['https://codeup.com/data-science/recession-proof-career/',\n",
    "         'https://codeup.com/codeup-news/codeup-x-comic-con/',\n",
    "         'https://codeup.com/featured/series-part-3-web-development/',\n",
    "         'https://codeup.com/codeup-news/codeup-dallas-campus/',\n",
    "         'https://codeup.com/codeup-news/codeup-tv-commercial/']"
   ]
  },
  {
   "cell_type": "code",
   "execution_count": 9,
   "id": "142b21b7",
   "metadata": {},
   "outputs": [
    {
     "data": {
      "text/plain": [
       "[{'title': 'Is a Career in Tech Recession-Proof?',\n",
       "  'date_published': 'Aug 12, 2022',\n",
       "  'content': '\\nGiven the current economic climate, many economists are considering the U.S. to be entering a recession. This can cause confusion, fear, and uncertainty, especially as it pertains to job security.\\nTo ease some of those feelings, below you’ll find some careers in tech that tend to hold up better than others amid a recession. In the event of a recession, companies will likely shift to digital strategies, making these careers in tech valuable and highly coveted.\\n\\xa0\\n\\n\\nProgrammer/Developer\\nNo matter the programming language you’ve mastered, having the knowledge alone makes you extremely valuable. The coding skills you possess as a programmer or developer are in-demand for companies looking to build or enhance their websites, and enhance their consumer experience. According to the U.S. Bureau of Labor Statistics, jobs in software development are expected to grow 22% by 2030. This is much faster than the average career.\\n\\n\\xa0\\n\\n\\nCloud Administrator\\nMore businesses are transitioning to cloud servers and this increase sparks the need for cloud administrators to maintain and update the cloud infrastructure. Amid a recession, it is likely that efforts regarding security will be heightened as company strategies shift digitally, and managing a more secure server will be the responsibility of the cloud administrator.\\n\\n\\xa0\\n\\n\\nData Analyst\\nDuring a recession, the need to preserve and monitor data, as well as use data to make predictions to drive a business’ initiatives will be heightened. Data analysts would be relied on heavily to study the data presented and interpret it to solve any current or future problems.\\n\\nThe three positions mentioned above can all be obtained after you complete one of our bootcamps, and take as little as 15 to 20 weeks to complete. Upon successful completion, if you do not land a job in-field within 6 months of graduating from a Codeup program, we will refund your paid tuition back to you.*\\n\\xa0\\nCodeup Programs\\nCodeup is a Texas-based career accelerator, built to help you transition to a career in tech seamlessly, and be well-equipped to succeed in your new role. We offer three different programs: Full-Stack Web Development, Cloud Administration, and Data Science. You can learn more about each of them here or by requesting more information on any that may interest you.\\nIf you have any hesitation about changing your career, or about any of our programs please reach out to us. We would love to help you find the program that best suits your needs and interests. Give us a call today at (210) 802- 7289.\\n*See tuition refund details and specifications here.\\n'},\n",
       " {'title': 'Codeup X Superhero Car Show & Comic Con',\n",
       "  'date_published': 'Aug 10, 2022',\n",
       "  'content': '\\nCodeup had a blast at the San Antonio Superhero Car Show and Comic Con! We had a booth for the all four days of the event, and we got to chat with some great people about Codeup’s offerings, as well as spread the word about our Lego set giveaway (winners announced on our social media accounts and below)!\\nWe would like to extend a huge thank you to PMX events, attendees, and volunteers who helped make this event a big success.\\xa0\\nWinners of the Lego set giveaway:\\n\\nCongratulations! Thank you for participating!\\nCheck out some great pics below!\\n\\n\\n\\n\\n\\n\\n\\n\\n\\n\\n\\n\\n\\n\\n\\n\\n\\n\\n\\n\\n\\n\\n\\n\\n\\n\\n\\nCheck out more upcoming events in San Antonio, and if you’re interested in learning more about Codeup check out our program offerings, we would love to help you jumpstart your career in tech. When you’re ready, start the process by filling out a quick form found\\xa0here.\\n'},\n",
       " {'title': 'What Jobs Can You Get After a Coding Bootcamp? Part 3: Web Development',\n",
       "  'date_published': 'Aug 2, 2022',\n",
       "  'content': '\\nIf you’re considering a career in web development, but don’t know what to expect, continue reading and we will help you find out!\\nIn this mini-series, we will take each of our programs here at Codeup: Data Science, Web Development, and Cloud Administration, and outline respectively potential job titles, as well as entry-level salaries.*\\nToday we will be discussing our Full-Stack Web Development program.\\nProgram Overview\\nOur Web Development program is 20 weeks of training in one of the most in-demand fields in the country. Upon completing this program you will have created an app or website from scratch, and have received hours of hands-on training from industry experts to equip you with the tools and knowledge to successfully enter your new career.\\nPotential Jobs\\n\\xa0\\n1. Full-Stack Web Developer\\nA Full-Stack Web Developer is proficient in both front and back-end coding as it pertains to apps, software, and websites. These developers have a good understanding of different coding languages and are capable of building websites that can handle heavy content and still function seamlessly. An entry-level full-stack developer can make an estimated $67,535 according to Glassdoor.\\n2. Software Developer\\nA Software Developer is responsible for programming, building, executing, and maintaining the software and programming they designed. An entry-level software developer can make an estimated $74,407 according to Glassdoor.\\n3. Computer Programmer\\nA Computer Programmer ensures that all aspects of specific software, website, and application are functioning properly. This is accomplished by writing and testing code as well as making adjustments where necessary. An entry-level computer programmer can make an estimated $57,939 according to Glassdoor. \\nHonorable Mention\\nA couple of additional roles to consider upon completing our Web Development program include:\\n\\nFront-End Software Developer: Estimated Entry-Level Salary $75,091\\nApplication Development Analyst: Estimated Entry-Level Salary $67,460\\n\\nInterested in the other parts of this mini-series? Check them out below!\\nPart 1: Data Science\\nPart 2: Cloud Administration\\n*Disclaimer: All information presented in this article is by no means guaranteed by completing a Codeup program. Salaries and duties vary based on factors such as company, location, and experience. These salaries are estimates based on San Antonio, TX data, and these duties are general and may not be exact for every position.\\n'},\n",
       " {'title': 'Codeup’s New Dallas Campus',\n",
       "  'date_published': 'Jul 25, 2022',\n",
       "  'content': '\\nCodeup’s Dallas campus has a new location! For more than two years, Codeup has been operating out of our original building on Commerce st. in Dallas, but recently Codeup has moved, and tripled our campus space! Our new address is 900 Jackson Street Suite #400 Dallas, Tx 75202\\n\\nCodeup has been a leading coding boot camp in Texas for more than eight years, with active campuses in San Antonio and Dallas offering accelerated programs in Data Science, Cloud Administration, and Full-Stack Web Development.\\nDallas Tech Scene\\nWith Dallas’ tech scene booming, it is imperative that the appropriate talent is available! We help produce top talent at a fast pace to keep up with the demand for tech jobs in the community.\\nCodeup Dallas Offerings\\nCurrently, Codeup offers a 20-week Full-Stack Web Development program at our Dallas location with hopes to add our other programs in the future.\\nDallas Campus Area\\nLocated in the heart of Downtown Dallas, our new location is surrounded by great restaurants, museums, monuments and statues!\\n\\nJohn F. Kennedy Memorial Plaza\\nDealey Plaza\\nCivic Garden\\nAT&T Discovery District\\nMuseum of Illusions\\nDallas Holocaust and Human Rights Museum\\nDallas World Aquarium\\nReunion Tower\\nNOLA Brasserie\\nTwisted Trompo Taco Restaurant\\nFamily Thais Asian Bistro\\nY.O. Ranch Steakhouse\\n\\nCodeup would love to help you jumpstart your career in tech, whether it be at our new Dallas campus, or one of our San Antonio locations, if you’re ready to transition into a career in Web Development, Data Science or Cloud Administration, we would love to help. Visit us here to apply today or give us a call at (210) 802-7289 to discuss your options.\\n'},\n",
       " {'title': 'Codeup TV Commercial',\n",
       "  'date_published': 'Jul 20, 2022',\n",
       "  'content': '\\nCodeup has officially made its TV debut! Our community of students, staff and CEO gathered to create the first-ever Codeup TV Commercial! Check it out to get a rundown of our offerings, and take a peek into our downtown Vogue campus where the commercial was filmed.\\nView the Codeup TV commercial below to see what the hype is about!\\n\\nCheck out some behind-the-scenes of filming:\\n\\n\\n\\n\\n\\n\\n\\n\\n\\n\\n\\n\\nCodeup would love to help you jumpstart your career in tech. If you’re interested in learning more, check out our program offerings. When you’re ready, start the process by filling out a quick form found here. \\n“COME JOIN US!”\\n'}]"
      ]
     },
     "execution_count": 9,
     "metadata": {},
     "output_type": "execute_result"
    }
   ],
   "source": [
    "#Loop through the links to collect the relevant information from the blog posts\n",
    "article_info = []\n",
    "\n",
    "for link in links:\n",
    "    \n",
    "    info_dict = {}\n",
    "    \n",
    "    response = get(link, headers=headers)\n",
    "    \n",
    "    soup = BeautifulSoup(response.content, 'html.parser')\n",
    "    \n",
    "    info_dict['title'] = soup.find('h1').text\n",
    "    \n",
    "    info_dict['date_published'] = soup.find('span', class_='published').text\n",
    "    \n",
    "    info_dict['content'] = soup.find('div', class_='entry-content').text\n",
    "    \n",
    "    article_info.append(info_dict)\n",
    "    \n",
    "article_info    "
   ]
  },
  {
   "cell_type": "code",
   "execution_count": 10,
   "id": "2540d071",
   "metadata": {},
   "outputs": [],
   "source": [
    "#Create a function to collect the information and cache it as a json file\n",
    "def get_blog_articles(article_list):\n",
    "    \n",
    "    file = 'blog_posts.json'\n",
    "    \n",
    "    if os.path.exists(file):\n",
    "        \n",
    "        with open(file) as f:\n",
    "        \n",
    "            return json.load(f)\n",
    "    \n",
    "    headers = {'User-Agent': 'Codeup Data Science'}\n",
    "    \n",
    "    article_info = []\n",
    "    \n",
    "    for article in article_list:\n",
    "        \n",
    "        info_dict = {}\n",
    "        \n",
    "        response = get(article, headers=headers)\n",
    "        \n",
    "        soup = BeautifulSoup(response.content, 'html.parser')\n",
    "        \n",
    "        info_dict['title'] = soup.find('h1').text\n",
    "    \n",
    "        info_dict['date_published'] = soup.find('span', class_='published').text\n",
    "    \n",
    "        info_dict['content'] = soup.find('div', class_='entry-content').text\n",
    "    \n",
    "        article_info.append(info_dict)\n",
    "        \n",
    "    with open(file, 'w') as f:\n",
    "        \n",
    "        json.dump(article_info, f)\n",
    "        \n",
    "    return article_info    "
   ]
  },
  {
   "cell_type": "code",
   "execution_count": 11,
   "id": "98709333",
   "metadata": {},
   "outputs": [
    {
     "data": {
      "text/plain": [
       "[{'title': 'Is a Career in Tech Recession-Proof?',\n",
       "  'date_published': 'Aug 12, 2022',\n",
       "  'content': '\\nGiven the current economic climate, many economists are considering the U.S. to be entering a recession. This can cause confusion, fear, and uncertainty, especially as it pertains to job security.\\nTo ease some of those feelings, below you’ll find some careers in tech that tend to hold up better than others amid a recession. In the event of a recession, companies will likely shift to digital strategies, making these careers in tech valuable and highly coveted.\\n\\xa0\\n\\n\\nProgrammer/Developer\\nNo matter the programming language you’ve mastered, having the knowledge alone makes you extremely valuable. The coding skills you possess as a programmer or developer are in-demand for companies looking to build or enhance their websites, and enhance their consumer experience. According to the U.S. Bureau of Labor Statistics, jobs in software development are expected to grow 22% by 2030. This is much faster than the average career.\\n\\n\\xa0\\n\\n\\nCloud Administrator\\nMore businesses are transitioning to cloud servers and this increase sparks the need for cloud administrators to maintain and update the cloud infrastructure. Amid a recession, it is likely that efforts regarding security will be heightened as company strategies shift digitally, and managing a more secure server will be the responsibility of the cloud administrator.\\n\\n\\xa0\\n\\n\\nData Analyst\\nDuring a recession, the need to preserve and monitor data, as well as use data to make predictions to drive a business’ initiatives will be heightened. Data analysts would be relied on heavily to study the data presented and interpret it to solve any current or future problems.\\n\\nThe three positions mentioned above can all be obtained after you complete one of our bootcamps, and take as little as 15 to 20 weeks to complete. Upon successful completion, if you do not land a job in-field within 6 months of graduating from a Codeup program, we will refund your paid tuition back to you.*\\n\\xa0\\nCodeup Programs\\nCodeup is a Texas-based career accelerator, built to help you transition to a career in tech seamlessly, and be well-equipped to succeed in your new role. We offer three different programs: Full-Stack Web Development, Cloud Administration, and Data Science. You can learn more about each of them here or by requesting more information on any that may interest you.\\nIf you have any hesitation about changing your career, or about any of our programs please reach out to us. We would love to help you find the program that best suits your needs and interests. Give us a call today at (210) 802- 7289.\\n*See tuition refund details and specifications here.\\n'},\n",
       " {'title': 'Codeup X Superhero Car Show & Comic Con',\n",
       "  'date_published': 'Aug 10, 2022',\n",
       "  'content': '\\nCodeup had a blast at the San Antonio Superhero Car Show and Comic Con! We had a booth for the all four days of the event, and we got to chat with some great people about Codeup’s offerings, as well as spread the word about our Lego set giveaway (winners announced on our social media accounts and below)!\\nWe would like to extend a huge thank you to PMX events, attendees, and volunteers who helped make this event a big success.\\xa0\\nWinners of the Lego set giveaway:\\n\\nCongratulations! Thank you for participating!\\nCheck out some great pics below!\\n\\n\\n\\n\\n\\n\\n\\n\\n\\n\\n\\n\\n\\n\\n\\n\\n\\n\\n\\n\\n\\n\\n\\n\\n\\n\\n\\nCheck out more upcoming events in San Antonio, and if you’re interested in learning more about Codeup check out our program offerings, we would love to help you jumpstart your career in tech. When you’re ready, start the process by filling out a quick form found\\xa0here.\\n'},\n",
       " {'title': 'What Jobs Can You Get After a Coding Bootcamp? Part 3: Web Development',\n",
       "  'date_published': 'Aug 2, 2022',\n",
       "  'content': '\\nIf you’re considering a career in web development, but don’t know what to expect, continue reading and we will help you find out!\\nIn this mini-series, we will take each of our programs here at Codeup: Data Science, Web Development, and Cloud Administration, and outline respectively potential job titles, as well as entry-level salaries.*\\nToday we will be discussing our Full-Stack Web Development program.\\nProgram Overview\\nOur Web Development program is 20 weeks of training in one of the most in-demand fields in the country. Upon completing this program you will have created an app or website from scratch, and have received hours of hands-on training from industry experts to equip you with the tools and knowledge to successfully enter your new career.\\nPotential Jobs\\n\\xa0\\n1. Full-Stack Web Developer\\nA Full-Stack Web Developer is proficient in both front and back-end coding as it pertains to apps, software, and websites. These developers have a good understanding of different coding languages and are capable of building websites that can handle heavy content and still function seamlessly. An entry-level full-stack developer can make an estimated $67,535 according to Glassdoor.\\n2. Software Developer\\nA Software Developer is responsible for programming, building, executing, and maintaining the software and programming they designed. An entry-level software developer can make an estimated $74,407 according to Glassdoor.\\n3. Computer Programmer\\nA Computer Programmer ensures that all aspects of specific software, website, and application are functioning properly. This is accomplished by writing and testing code as well as making adjustments where necessary. An entry-level computer programmer can make an estimated $57,939 according to Glassdoor. \\nHonorable Mention\\nA couple of additional roles to consider upon completing our Web Development program include:\\n\\nFront-End Software Developer: Estimated Entry-Level Salary $75,091\\nApplication Development Analyst: Estimated Entry-Level Salary $67,460\\n\\nInterested in the other parts of this mini-series? Check them out below!\\nPart 1: Data Science\\nPart 2: Cloud Administration\\n*Disclaimer: All information presented in this article is by no means guaranteed by completing a Codeup program. Salaries and duties vary based on factors such as company, location, and experience. These salaries are estimates based on San Antonio, TX data, and these duties are general and may not be exact for every position.\\n'},\n",
       " {'title': 'Codeup’s New Dallas Campus',\n",
       "  'date_published': 'Jul 25, 2022',\n",
       "  'content': '\\nCodeup’s Dallas campus has a new location! For more than two years, Codeup has been operating out of our original building on Commerce st. in Dallas, but recently Codeup has moved, and tripled our campus space! Our new address is 900 Jackson Street Suite #400 Dallas, Tx 75202\\n\\nCodeup has been a leading coding boot camp in Texas for more than eight years, with active campuses in San Antonio and Dallas offering accelerated programs in Data Science, Cloud Administration, and Full-Stack Web Development.\\nDallas Tech Scene\\nWith Dallas’ tech scene booming, it is imperative that the appropriate talent is available! We help produce top talent at a fast pace to keep up with the demand for tech jobs in the community.\\nCodeup Dallas Offerings\\nCurrently, Codeup offers a 20-week Full-Stack Web Development program at our Dallas location with hopes to add our other programs in the future.\\nDallas Campus Area\\nLocated in the heart of Downtown Dallas, our new location is surrounded by great restaurants, museums, monuments and statues!\\n\\nJohn F. Kennedy Memorial Plaza\\nDealey Plaza\\nCivic Garden\\nAT&T Discovery District\\nMuseum of Illusions\\nDallas Holocaust and Human Rights Museum\\nDallas World Aquarium\\nReunion Tower\\nNOLA Brasserie\\nTwisted Trompo Taco Restaurant\\nFamily Thais Asian Bistro\\nY.O. Ranch Steakhouse\\n\\nCodeup would love to help you jumpstart your career in tech, whether it be at our new Dallas campus, or one of our San Antonio locations, if you’re ready to transition into a career in Web Development, Data Science or Cloud Administration, we would love to help. Visit us here to apply today or give us a call at (210) 802-7289 to discuss your options.\\n'},\n",
       " {'title': 'Codeup TV Commercial',\n",
       "  'date_published': 'Jul 20, 2022',\n",
       "  'content': '\\nCodeup has officially made its TV debut! Our community of students, staff and CEO gathered to create the first-ever Codeup TV Commercial! Check it out to get a rundown of our offerings, and take a peek into our downtown Vogue campus where the commercial was filmed.\\nView the Codeup TV commercial below to see what the hype is about!\\n\\nCheck out some behind-the-scenes of filming:\\n\\n\\n\\n\\n\\n\\n\\n\\n\\n\\n\\n\\nCodeup would love to help you jumpstart your career in tech. If you’re interested in learning more, check out our program offerings. When you’re ready, start the process by filling out a quick form found here. \\n“COME JOIN US!”\\n'}]"
      ]
     },
     "execution_count": 11,
     "metadata": {},
     "output_type": "execute_result"
    }
   ],
   "source": [
    "#Run my function to make sure it works!\n",
    "article_info = get_blog_articles(links)\n",
    "article_info"
   ]
  },
  {
   "cell_type": "markdown",
   "id": "ced8b285",
   "metadata": {},
   "source": [
    "## Exercise 2\n",
    "\n",
    "News Articles\n",
    "\n",
    "We will now be scraping text data from [inshorts](https://inshorts.com/), a website that provides a brief overview of many different topics.\n",
    "\n",
    "Write a function that scrapes the news articles for the following topics:\n",
    "\n",
    "Business  \n",
    "Sports  \n",
    "Technology  \n",
    "Entertainment  \n",
    "\n",
    "The end product of this should be a function named get_news_articles that returns a list of dictionaries, where each dictionary has this shape:"
   ]
  },
  {
   "cell_type": "code",
   "execution_count": 12,
   "id": "f261a52b",
   "metadata": {},
   "outputs": [
    {
     "data": {
      "text/plain": [
       "'\\n\\n\\n\\n\\n\\n\\n\\n\\n\\n\\n\\n\\n\\n\\n\\n\\n\\n\\n\\n\\n\\n\\n\\n\\n\\n\\n\\n\\n\\n\\n\\n\\n\\n\\n\\n\\n\\n\\n\\n\\n\\n\\n\\n\\n\\nBusiness News: World and India Business News in English with Inshorts\\n\\n\\n\\n\\n\\n\\n\\n\\n\\n\\n\\n\\n\\n\\n\\n\\n\\n\\n\\n\\n\\n\\n\\n\\n\\n\\n\\n\\n\\n\\n\\n\\n\\n\\n\\ntoggle menuMenu\\n\\n\\n\\n\\n\\n\\n\\xa0\\n\\n\\n\\nEnglish\\nहिन्दी\\n\\n\\n\\nCategories\\n\\n All News \\n India \\n Business \\n Sports \\n World \\n Politics \\n Technology \\n Startup \\n Entertainment \\n Miscellaneous \\n Hatke \\n Science \\n Automobile \\n\\n\\n\\n\\n\\n\\n\\n\\n\\n\\n\\n\\n          For the best experience us'"
      ]
     },
     "execution_count": 12,
     "metadata": {},
     "output_type": "execute_result"
    }
   ],
   "source": [
    "#Make a request of the business page\n",
    "response2 = get('https://inshorts.com/en/read/business')\n",
    "soup2 = BeautifulSoup(response2.content, 'html.parser')\n",
    "soup2.text[:400]"
   ]
  },
  {
   "cell_type": "code",
   "execution_count": 13,
   "id": "af765ed3",
   "metadata": {},
   "outputs": [
    {
     "data": {
      "text/plain": [
       "[<span itemprop=\"headline\">India's GDP grows at 13.5% in first quarter of FY23, fastest in a year</span>,\n",
       " <span itemprop=\"headline\">Snap to lay off 20% of staff, cancel several projects to cut costs</span>,\n",
       " <span itemprop=\"headline\">Musk seeks to delay Twitter trial to Nov amid whistleblower's claims</span>,\n",
       " <span itemprop=\"headline\">2 top executives at Snap quit hours after report about 20% layoffs emerges</span>,\n",
       " <span itemprop=\"headline\">Viral video shows Amazon parcels thrown out of train at station, Railways clarifies</span>,\n",
       " <span itemprop=\"headline\">World's 3rd richest person Adani's wealth surged over 13 times in 2.5 years</span>,\n",
       " <span itemprop=\"headline\">Dell among firms conducting stay interviews to contain high attrition rates: Report</span>,\n",
       " <span itemprop=\"headline\">Russia's Gazprom halts gas supply to Europe via major pipeline</span>,\n",
       " <span itemprop=\"headline\">Japan calls for $24 bn investment to boost battery competitiveness</span>,\n",
       " <span itemprop=\"headline\">Most of crypto still junk: JP Morgan's digital assets division head</span>,\n",
       " <span itemprop=\"headline\">SoftBank Corporate Officer Rajeev Misra steps down amid record loss</span>,\n",
       " <span itemprop=\"headline\">Netflix hires 2 top advertising executives from Snapchat-parent Snap Inc</span>,\n",
       " <span itemprop=\"headline\">Indonesia's GoTo seeks to raise $1 billion via convertible bonds: Report</span>,\n",
       " <span itemprop=\"headline\">Infosys divests entire stake in US-based Trifacta for $12 million</span>,\n",
       " <span itemprop=\"headline\">Axis Bank looking to acquire 10% stake in Go Digit: Report</span>,\n",
       " <span itemprop=\"headline\">Tata Motors completes buying of Marcopolo's stake for ₹99.96 crore</span>,\n",
       " <span itemprop=\"headline\">EV firm Lucid files mixed shelf offering of up to $8 bn</span>,\n",
       " <span itemprop=\"headline\">States, UTs to get chana at ₹8/kg discount for welfare schemes</span>,\n",
       " <span itemprop=\"headline\">IMF to make formal announcement on SL bailout package on Thurs: Report</span>,\n",
       " <span itemprop=\"headline\">Pak at challenging economic juncture: IMF while approving bailout</span>,\n",
       " <span itemprop=\"headline\">NSDL likely to shortlist 7 investment banks for 2023 IPO: Reports</span>,\n",
       " <span itemprop=\"headline\">FPIs turn net buyers of Indian shares in a month 1st time since Sept 2021</span>,\n",
       " <span itemprop=\"headline\">Air India retains Captain RS Sandhu as Chief of Operations</span>,\n",
       " <span itemprop=\"headline\">Tata Steel to invest in hydrogen-based steel production in Netherlands</span>,\n",
       " <span itemprop=\"headline\">India's B2B general trade to reach $1.2 trillion by 2030: Redseer</span>]"
      ]
     },
     "execution_count": 13,
     "metadata": {},
     "output_type": "execute_result"
    }
   ],
   "source": [
    "#Access the titles\n",
    "titles = soup2.find_all('span', itemprop='headline')\n",
    "titles"
   ]
  },
  {
   "cell_type": "code",
   "execution_count": 14,
   "id": "8a5e9873",
   "metadata": {},
   "outputs": [
    {
     "data": {
      "text/plain": [
       "[<div itemprop=\"articleBody\">India's GDP grew at 13.5% in the first quarter of FY23, achieving its fastest annual expansion in a year, government data showed. However, it is lower than the Reserve Bank of India's (RBI) projection of 16.2% GDP growth in the first quarter of FY23. India's GDP growth in the first quarter of FY22 was 20.1%.</div>,\n",
       " <div itemprop=\"articleBody\">Snap said on Wednesday it will lay off 20% of its staff and shut down original shows, in-app games and several other projects as part of a corporate restructuring. As per CEO  Evan Spiegel, Snap's current revenue growth rate is \"well below\" what the company was expecting. The cut will help Snap save an estimated $500 million in costs annually. </div>,\n",
       " <div itemprop=\"articleBody\">Tesla CEO Elon Musk is seeking to delay the trial with Twitter until November, as per court filings. The five-day trial is currently scheduled to start on October 17. The court filings came after Musk's legal team sent a fresh letter to Twitter to include whistleblower Peiter Zatko's claims as another reason to end the $44 billion deal.</div>,\n",
       " <div itemprop=\"articleBody\">Two senior advertising executives at Snap quit hours after a report emerged stating that the company was planning to cut about 20% of its workforce. Earlier, a report by The Verge, while citing sources, said that Snap is planning to lay off 20% of its more than 6,400 employees after it reported weak Q2 results. </div>,\n",
       " <div itemprop=\"articleBody\">A video from Guwahati railway station has gone viral which shows Amazon parcels being thrown on the platform as they are unloaded from a train. After some social media users alleged that Railways' employees were carelessly unloading the parcels, Northeast Frontier Railway said, \"This is an old video from March, 2022...The persons handling parcels are representatives of concerned party.\"</div>,\n",
       " <div itemprop=\"articleBody\">Adani Group Chairman Gautam Adani on Tuesday became the world's third richest person with a net worth of $137 billion. While his wealth stood at $10 billion on January 1, 2020, it surged by over $60 billion in 2022 alone and jumped more than thirteen times in over two and half years. Currently, his net worth stands at $143 billion. </div>,\n",
       " <div itemprop=\"articleBody\">To contain the high attrition rates, some companies are now reportedly using stay interviews. In stay interviews, companies speak to the employees about their importance to the organisation while addressing the issues they might be facing prompting them to quit. Dell Technologies and Ericsson are among the companies which have been conducting such interviews with employees. </div>,\n",
       " <div itemprop=\"articleBody\">Russia stopped gas supplies via a major pipeline to Europe on Wednesday with state energy company Gazprom saying that no gas would flow into Germany between Wednesday and Saturday. This is because of the outage for maintenance on Nord Stream 1. While European governments have accused Russia of using energy supplies as a \"weapon of war\", Moscow has denied this.\n",
       " </div>,\n",
       " <div itemprop=\"articleBody\">Japan's Ministry of Economy, Trade and Industry said that the country needs an investment worth over $24 billion from the public and private sectors to develop a competitive manufacturing base for batteries used in electric vehicles (EVs). A specialist panel has set a target of securing 30,000 trained workers for battery manufacturing and supply chains by 2030.\n",
       " </div>,\n",
       " <div itemprop=\"articleBody\">JP Morgan's digital assets division head Umar Farooq said majority of crypto assets are \"junk\" and actual crypto use cases haven't fully materialised. Regulation hasn't kept up with the expanding industry, thereby discouraging many conventional financial institutions from participating, he said. Industry hasn't developed sufficiently to be used to support high-value serious transactions, he added.</div>,\n",
       " <div itemprop=\"articleBody\">SoftBank Group's Corporate Officer and Executive Vice President Rajeev Misra is stepping down from his roles, the Japanese conglomerate said on Wednesday. This development follows a record loss at the Japanese investment group after a slide in technology stocks. Misra will retain his position as head of SoftBank Investment Advisers, which oversees the first Vision Fund's existing investments.\n",
       " </div>,\n",
       " <div itemprop=\"articleBody\">Netflix on Tuesday announced that it has hired two top executives from Snap Inc. The firm's Chief Business Officer Jeremi Gorman has been hired as Netflix's head of worldwide advertising while Snap Inc's VP of advertising sales Peter Naylor has been hired for the same role. The hiring signals Netflix's commitment to building an ad-supported version of its streaming service.</div>,\n",
       " <div itemprop=\"articleBody\">Indonesia's largest technology firm GoTo is seeking to raise about $1 billion through a convertible bond issue, Reuters reported. The company, formed last year after the merger of ride hailing firm Gojek and e-commerce leader Tokopedia, is reportedly working with three financial advisors for the offering. The offer is expected to be launched in the fourth quarter.</div>,\n",
       " <div itemprop=\"articleBody\">Infosys said that it has divested its stake in Trifacta Inc, a data preparation software company, for $12 million. Infosys had invested $4 million in the San Francisco-based company in 2016. It had a minority holding not exceeding 20% of Trifacta's outstanding share capital. Trifacta was founded in 2012 and its investors include Accel, Greylock Partners, Ignition and Cathay Innovation.\n",
       " </div>,\n",
       " <div itemprop=\"articleBody\">Axis Bank is looking to acquire a 10% stake for around $9 million in Go Digit Life Insurance, as per a report. Last week, HDFC Bank in a regulatory filing declared that it was planning to buy a 9.94% stake in Go Digit Life for $9 million. Go Digit Insurance recently filed papers to raise $440 million via an IPO. </div>,\n",
       " <div itemprop=\"articleBody\">Tata Motors has completed the acquisition of its partner Marcopolo's stake in their joint venture Tata Marcopolo Motors Limited (TMML) for ₹99.96 crore. The 51:49 joint venture between the two was formed in 2006. Tata Motors and Marcopolo had signed a deal under which the former agreed to purchase 49% shareholding of Marcopolo in the joint venture in December 2020.\n",
       " </div>,\n",
       " <div itemprop=\"articleBody\">Electric vehicle company Lucid Group Inc has filed for a new mixed shelf offering of up to $8 billion. Under this, the EV maker may sell different securities in either one or more offerings with the size, price and terms to be decided at the time of sale. Lucid has a market capitalisation of about $27 billion. </div>,\n",
       " <div itemprop=\"articleBody\">The Union Cabinet has approved the disposal of 15 lakh tonne of chana to states and Union Territories at a discount of ₹8/kg for utilisation in various welfare schemes. These will be offered on a \"first come, first served\" basis and can be utilised in Mid Day Meal Scheme, Public Distribution System and Integrated Child Development Services, among others.</div>,\n",
       " <div itemprop=\"articleBody\">International Monetary Fund (IMF) is likely to conclude talks with the Sri Lankan government and make a formal announcement on Thursday on the bailout package and staff-level agreement for the cash-strapped country, according to reports. The ongoing talks are regarding a $5 billion bailout package for Sri Lanka. This is IMF delegation's second visit to Sri Lanka in three months.</div>,\n",
       " <div itemprop=\"articleBody\">Pakistan is at a \"challenging economic juncture\", the International Monetary Fund (IMF) said while approving a $1.17 billion bailout plan amid widespread destruction due to floods. IMF's Executive Board completed the reviews of a loan facility for Pakistan on Monday. It will put the cash-starved country's economy back on track averting an imminent default amid persisting political uncertainty.\n",
       " </div>,\n",
       " <div itemprop=\"articleBody\">IDBI Bank and the NSE-backed National Securities Depository Limited (NSDL) is likely to shortlist seven investment banks as advisors in its preparation to launch an initial public offer next year, according to reports. If the listing is successful, NSDL will become the second depository services firm to be listed on Indian bourses after Central Depository Services Limited's debut in 2017.\n",
       " </div>,\n",
       " <div itemprop=\"articleBody\">In August 2022, the first month of net inflows for Dalal Street since September 2021, foreign portfolio investors (FPIs) emerged as net buyers of Indian equities with net purchases at ₹22,025.8 crore for the month, provisional exchange data showed. Net sales by domestic institutional investors (DIIs) stood at ₹7,068.9 crore. This was first month of DIIs' outflows in 16 months.</div>,\n",
       " <div itemprop=\"articleBody\">Tata-owned Air India announced on Tuesday that Captain RS Sandhu will continue to lead as its Chief of Operations till further notice. In July 2020, the Appointments Committee of the Cabinet cleared his appointment for the role. This makes Sandhu one of the few top management people from Air India's government-owned days to be retained after the Tatas took over.</div>,\n",
       " <div itemprop=\"articleBody\">Tata Steel has said that it will invest more than €65 million for hydrogen-based steel manufacturing in the Netherlands. The company has signed pacts with three firms - McDermott, Danieli and Hatch for further technical preparations. McDermott will manage construction input, Danieli will oversee engineering design and Hatch will help improve the final steel quality.</div>,\n",
       " <div itemprop=\"articleBody\">According to a report by Redseer Strategy Consultants, the general business-to-business (B2B) trade in India will reach $1.2 trillion by 2030, with the driving factor being B2B e-commerce. The unorganised general trade channel that drives India's retail market will double from $0.7 trillion to $1.4 trillion. The B2B e-commerce market will reach $90-100 billion in gross merchandise value. </div>]"
      ]
     },
     "execution_count": 14,
     "metadata": {},
     "output_type": "execute_result"
    }
   ],
   "source": [
    "#Access the summaries\n",
    "summaries = soup2.find_all('div', itemprop='articleBody')\n",
    "summaries"
   ]
  },
  {
   "cell_type": "code",
   "execution_count": 15,
   "id": "fe4dbcef",
   "metadata": {},
   "outputs": [
    {
     "data": {
      "text/plain": [
       "(25, 25)"
      ]
     },
     "execution_count": 15,
     "metadata": {},
     "output_type": "execute_result"
    }
   ],
   "source": [
    "#Make sure I'm grabbing an equal number of titles and summaries\n",
    "len(titles), len(summaries)"
   ]
  },
  {
   "cell_type": "code",
   "execution_count": 16,
   "id": "21f690d6",
   "metadata": {},
   "outputs": [],
   "source": [
    "#Define a function to scrape articles from one topic\n",
    "def scrape_one_page(topic):\n",
    "    \n",
    "    base_url = 'https://inshorts.com/en/read/'\n",
    "    \n",
    "    response = get(base_url + topic)\n",
    "    \n",
    "    soup = BeautifulSoup(response.content, 'html.parser')\n",
    "    \n",
    "    titles = soup.find_all('span', itemprop='headline')\n",
    "    \n",
    "    summaries = soup.find_all('div', itemprop='articleBody')\n",
    "    \n",
    "    summary_list = []\n",
    "    \n",
    "    for i in range(len(titles)):\n",
    "        \n",
    "        temp_dict = {}\n",
    "        \n",
    "        temp_dict['title'] = titles[i].text\n",
    "        \n",
    "        temp_dict['content'] = summaries[i].text\n",
    "        \n",
    "        temp_dict['category'] = topic\n",
    "        \n",
    "        summary_list.append(temp_dict)\n",
    "        \n",
    "    return summary_list    "
   ]
  },
  {
   "cell_type": "code",
   "execution_count": 17,
   "id": "604a12fd",
   "metadata": {},
   "outputs": [
    {
     "data": {
      "text/plain": [
       "[{'title': \"India's GDP grows at 13.5% in first quarter of FY23, fastest in a year\",\n",
       "  'content': \"India's GDP grew at 13.5% in the first quarter of FY23, achieving its fastest annual expansion in a year, government data showed. However, it is lower than the Reserve Bank of India's (RBI) projection of 16.2% GDP growth in the first quarter of FY23. India's GDP growth in the first quarter of FY22 was 20.1%.\",\n",
       "  'category': 'business'},\n",
       " {'title': 'Snap to lay off 20% of staff, cancel several projects to cut costs',\n",
       "  'content': 'Snap said on Wednesday it will lay off 20% of its staff and shut down original shows, in-app games and several other projects as part of a corporate restructuring. As per CEO  Evan Spiegel, Snap\\'s current revenue growth rate is \"well below\" what the company was expecting. The cut will help Snap save an estimated $500 million in costs annually. ',\n",
       "  'category': 'business'},\n",
       " {'title': \"Musk seeks to delay Twitter trial to Nov amid whistleblower's claims\",\n",
       "  'content': \"Tesla CEO Elon Musk is seeking to delay the trial with Twitter until November, as per court filings. The five-day trial is currently scheduled to start on October 17. The court filings came after Musk's legal team sent a fresh letter to Twitter to include whistleblower Peiter Zatko's claims as another reason to end the $44 billion deal.\",\n",
       "  'category': 'business'},\n",
       " {'title': '2 top executives at Snap quit hours after report about 20% layoffs emerges',\n",
       "  'content': 'Two senior advertising executives at Snap quit hours after a report emerged stating that the company was planning to cut about 20% of its workforce. Earlier, a report by The Verge, while citing sources, said that Snap is planning to lay off 20% of its more than 6,400 employees after it reported weak Q2 results. ',\n",
       "  'category': 'business'},\n",
       " {'title': 'Viral video shows Amazon parcels thrown out of train at station, Railways clarifies',\n",
       "  'content': 'A video from Guwahati railway station has gone viral which shows Amazon parcels being thrown on the platform as they are unloaded from a train. After some social media users alleged that Railways\\' employees were carelessly unloading the parcels, Northeast Frontier Railway said, \"This is an old video from March, 2022...The persons handling parcels are representatives of concerned party.\"',\n",
       "  'category': 'business'},\n",
       " {'title': \"World's 3rd richest person Adani's wealth surged over 13 times in 2.5 years\",\n",
       "  'content': \"Adani Group Chairman Gautam Adani on Tuesday became the world's third richest person with a net worth of $137 billion. While his wealth stood at $10 billion on January 1, 2020, it surged by over $60 billion in 2022 alone and jumped more than thirteen times in over two and half years. Currently, his net worth stands at $143 billion. \",\n",
       "  'category': 'business'},\n",
       " {'title': 'Dell among firms conducting stay interviews to contain high attrition rates: Report',\n",
       "  'content': 'To contain the high attrition rates, some companies are now reportedly using stay interviews. In stay interviews, companies speak to the employees about their importance to the organisation while addressing the issues they might be facing prompting them to quit. Dell Technologies and Ericsson are among the companies which have been conducting such interviews with employees. ',\n",
       "  'category': 'business'},\n",
       " {'title': \"Russia's Gazprom halts gas supply to Europe via major pipeline\",\n",
       "  'content': 'Russia stopped gas supplies via a major pipeline to Europe on Wednesday with state energy company Gazprom saying that no gas would flow into Germany between Wednesday and Saturday. This is because of the outage for maintenance on Nord Stream 1. While European governments have accused Russia of using energy supplies as a \"weapon of war\", Moscow has denied this.\\n',\n",
       "  'category': 'business'},\n",
       " {'title': 'Japan calls for $24 bn investment to boost battery competitiveness',\n",
       "  'content': \"Japan's Ministry of Economy, Trade and Industry said that the country needs an investment worth over $24 billion from the public and private sectors to develop a competitive manufacturing base for batteries used in electric vehicles (EVs). A specialist panel has set a target of securing 30,000 trained workers for battery manufacturing and supply chains by 2030.\\n\",\n",
       "  'category': 'business'},\n",
       " {'title': \"Most of crypto still junk: JP Morgan's digital assets division head\",\n",
       "  'content': 'JP Morgan\\'s digital assets division head Umar Farooq said majority of crypto assets are \"junk\" and actual crypto use cases haven\\'t fully materialised. Regulation hasn\\'t kept up with the expanding industry, thereby discouraging many conventional financial institutions from participating, he said. Industry hasn\\'t developed sufficiently to be used to support high-value serious transactions, he added.',\n",
       "  'category': 'business'},\n",
       " {'title': 'SoftBank Corporate Officer Rajeev Misra steps down amid record loss',\n",
       "  'content': \"SoftBank Group's Corporate Officer and Executive Vice President Rajeev Misra is stepping down from his roles, the Japanese conglomerate said on Wednesday. This development follows a record loss at the Japanese investment group after a slide in technology stocks. Misra will retain his position as head of SoftBank Investment Advisers, which oversees the first Vision Fund's existing investments.\\n\",\n",
       "  'category': 'business'},\n",
       " {'title': 'Netflix hires 2 top advertising executives from Snapchat-parent Snap Inc',\n",
       "  'content': \"Netflix on Tuesday announced that it has hired two top executives from Snap Inc. The firm's Chief Business Officer Jeremi Gorman has been hired as Netflix's head of worldwide advertising while Snap Inc's VP of advertising sales Peter Naylor has been hired for the same role. The hiring signals Netflix's commitment to building an ad-supported version of its streaming service.\",\n",
       "  'category': 'business'},\n",
       " {'title': \"Indonesia's GoTo seeks to raise $1 billion via convertible bonds: Report\",\n",
       "  'content': \"Indonesia's largest technology firm GoTo is seeking to raise about $1 billion through a convertible bond issue, Reuters reported. The company, formed last year after the merger of ride hailing firm Gojek and e-commerce leader Tokopedia, is reportedly working with three financial advisors for the offering. The offer is expected to be launched in the fourth quarter.\",\n",
       "  'category': 'business'},\n",
       " {'title': 'Infosys divests entire stake in US-based Trifacta for $12 million',\n",
       "  'content': \"Infosys said that it has divested its stake in Trifacta Inc, a data preparation software company, for $12 million. Infosys had invested $4 million in the San Francisco-based company in 2016. It had a minority holding not exceeding 20% of Trifacta's outstanding share capital. Trifacta was founded in 2012 and its investors include Accel, Greylock Partners, Ignition and Cathay Innovation.\\n\",\n",
       "  'category': 'business'},\n",
       " {'title': 'Axis Bank looking to acquire 10% stake in Go Digit: Report',\n",
       "  'content': 'Axis Bank is looking to acquire a 10% stake for around $9 million in Go Digit Life Insurance, as per a report. Last week, HDFC Bank in a regulatory filing declared that it was planning to buy a 9.94% stake in Go Digit Life for $9 million. Go Digit Insurance recently filed papers to raise $440 million via an IPO. ',\n",
       "  'category': 'business'},\n",
       " {'title': \"Tata Motors completes buying of Marcopolo's stake for ₹99.96 crore\",\n",
       "  'content': \"Tata Motors has completed the acquisition of its partner Marcopolo's stake in their joint venture Tata Marcopolo Motors Limited (TMML) for ₹99.96 crore. The 51:49 joint venture between the two was formed in 2006. Tata Motors and Marcopolo had signed a deal under which the former agreed to purchase 49% shareholding of Marcopolo in the joint venture in December 2020.\\n\",\n",
       "  'category': 'business'},\n",
       " {'title': 'EV firm Lucid files mixed shelf offering of up to $8 bn',\n",
       "  'content': 'Electric vehicle company Lucid Group Inc has filed for a new mixed shelf offering of up to $8 billion. Under this, the EV maker may sell different securities in either one or more offerings with the size, price and terms to be decided at the time of sale. Lucid has a market capitalisation of about $27 billion. ',\n",
       "  'category': 'business'},\n",
       " {'title': 'States, UTs to get chana at ₹8/kg discount for welfare schemes',\n",
       "  'content': 'The Union Cabinet has approved the disposal of 15 lakh tonne of chana to states and Union Territories at a discount of ₹8/kg for utilisation in various welfare schemes. These will be offered on a \"first come, first served\" basis and can be utilised in Mid Day Meal Scheme, Public Distribution System and Integrated Child Development Services, among others.',\n",
       "  'category': 'business'},\n",
       " {'title': 'IMF to make formal announcement on SL bailout package on Thurs: Report',\n",
       "  'content': \"International Monetary Fund (IMF) is likely to conclude talks with the Sri Lankan government and make a formal announcement on Thursday on the bailout package and staff-level agreement for the cash-strapped country, according to reports. The ongoing talks are regarding a $5 billion bailout package for Sri Lanka. This is IMF delegation's second visit to Sri Lanka in three months.\",\n",
       "  'category': 'business'},\n",
       " {'title': 'Pak at challenging economic juncture: IMF while approving bailout',\n",
       "  'content': 'Pakistan is at a \"challenging economic juncture\", the International Monetary Fund (IMF) said while approving a $1.17 billion bailout plan amid widespread destruction due to floods. IMF\\'s Executive Board completed the reviews of a loan facility for Pakistan on Monday. It will put the cash-starved country\\'s economy back on track averting an imminent default amid persisting political uncertainty.\\n',\n",
       "  'category': 'business'},\n",
       " {'title': 'NSDL likely to shortlist 7 investment banks for 2023 IPO: Reports',\n",
       "  'content': \"IDBI Bank and the NSE-backed National Securities Depository Limited (NSDL) is likely to shortlist seven investment banks as advisors in its preparation to launch an initial public offer next year, according to reports. If the listing is successful, NSDL will become the second depository services firm to be listed on Indian bourses after Central Depository Services Limited's debut in 2017.\\n\",\n",
       "  'category': 'business'},\n",
       " {'title': 'FPIs turn net buyers of Indian shares in a month 1st time since Sept 2021',\n",
       "  'content': \"In August 2022, the first month of net inflows for Dalal Street since September 2021, foreign portfolio investors (FPIs) emerged as net buyers of Indian equities with net purchases at ₹22,025.8 crore for the month, provisional exchange data showed. Net sales by domestic institutional investors (DIIs) stood at ₹7,068.9 crore. This was first month of DIIs' outflows in 16 months.\",\n",
       "  'category': 'business'},\n",
       " {'title': 'Air India retains Captain RS Sandhu as Chief of Operations',\n",
       "  'content': \"Tata-owned Air India announced on Tuesday that Captain RS Sandhu will continue to lead as its Chief of Operations till further notice. In July 2020, the Appointments Committee of the Cabinet cleared his appointment for the role. This makes Sandhu one of the few top management people from Air India's government-owned days to be retained after the Tatas took over.\",\n",
       "  'category': 'business'},\n",
       " {'title': 'Tata Steel to invest in hydrogen-based steel production in Netherlands',\n",
       "  'content': 'Tata Steel has said that it will invest more than €65 million for hydrogen-based steel manufacturing in the Netherlands. The company has signed pacts with three firms - McDermott, Danieli and Hatch for further technical preparations. McDermott will manage construction input, Danieli will oversee engineering design and Hatch will help improve the final steel quality.',\n",
       "  'category': 'business'},\n",
       " {'title': \"India's B2B general trade to reach $1.2 trillion by 2030: Redseer\",\n",
       "  'content': \"According to a report by Redseer Strategy Consultants, the general business-to-business (B2B) trade in India will reach $1.2 trillion by 2030, with the driving factor being B2B e-commerce. The unorganised general trade channel that drives India's retail market will double from $0.7 trillion to $1.4 trillion. The B2B e-commerce market will reach $90-100 billion in gross merchandise value. \",\n",
       "  'category': 'business'}]"
      ]
     },
     "execution_count": 17,
     "metadata": {},
     "output_type": "execute_result"
    }
   ],
   "source": [
    "#Test my function on the business page\n",
    "business_test = scrape_one_page('business')\n",
    "business_test"
   ]
  },
  {
   "cell_type": "code",
   "execution_count": 18,
   "id": "64708fb2",
   "metadata": {},
   "outputs": [],
   "source": [
    "#Define a function that will scrape information about an array of topics\n",
    "def get_news_articles():\n",
    "    \n",
    "    file = 'news_articles.json'\n",
    "    \n",
    "    if os.path.exists(file):\n",
    "        \n",
    "        with open(file) as f:\n",
    "            \n",
    "            return json.load(f)\n",
    "    \n",
    "    topic_list = ['business', 'sports', 'technology', 'entertainment']\n",
    "    \n",
    "    final_list = []\n",
    "    \n",
    "    for topic in topic_list:\n",
    "        \n",
    "        final_list.extend(scrape_one_page(topic))\n",
    "        \n",
    "    with open(file, 'w') as f:\n",
    "        \n",
    "        json.dump(final_list, f)\n",
    "        \n",
    "    return final_list    "
   ]
  },
  {
   "cell_type": "code",
   "execution_count": 19,
   "id": "74c3dbd2",
   "metadata": {},
   "outputs": [
    {
     "data": {
      "text/plain": [
       "[{'title': \"India's GDP grows at 13.5% in first quarter of FY23, fastest in a year\",\n",
       "  'content': \"India's GDP grew at 13.5% in the first quarter of FY23, achieving its fastest annual expansion in a year, government data showed. However, it is lower than the Reserve Bank of India's (RBI) projection of 16.2% GDP growth in the first quarter of FY23. India's GDP growth in the first quarter of FY22 was 20.1%.\",\n",
       "  'category': 'business'},\n",
       " {'title': \"Musk seeks to delay Twitter trial to Nov amid whistleblower's claims\",\n",
       "  'content': \"Tesla CEO Elon Musk is seeking to delay the trial with Twitter until November, as per court filings. The five-day trial is currently scheduled to start on October 17. The court filings came after Musk's legal team sent a fresh letter to Twitter to include whistleblower Peiter Zatko's claims as another reason to end the $44 billion deal.\",\n",
       "  'category': 'business'},\n",
       " {'title': 'Snap to lay off 20% of staff, cancel several projects to cut costs',\n",
       "  'content': 'Snap said on Wednesday it will lay off 20% of its staff and shut down original shows, in-app games and several other projects as part of a corporate restructuring. As per CEO  Evan Spiegel, Snap\\'s current revenue growth rate is \"well below\" what the company was expecting. The cut will help Snap save an estimated $500 million in costs annually. ',\n",
       "  'category': 'business'},\n",
       " {'title': '2 top executives at Snap quit hours after report about 20% layoffs emerges',\n",
       "  'content': 'Two senior advertising executives at Snap quit hours after a report emerged stating that the company was planning to cut about 20% of its workforce. Earlier, a report by The Verge, while citing sources, said that Snap is planning to lay off 20% of its more than 6,400 employees after it reported weak Q2 results. ',\n",
       "  'category': 'business'},\n",
       " {'title': 'Viral video shows Amazon parcels thrown out of train at station, Railways clarifies',\n",
       "  'content': 'A video from Guwahati railway station has gone viral which shows Amazon parcels being thrown on the platform as they are unloaded from a train. After some social media users alleged that Railways\\' employees were carelessly unloading the parcels, Northeast Frontier Railway said, \"This is an old video from March, 2022...The persons handling parcels are representatives of concerned party.\"',\n",
       "  'category': 'business'},\n",
       " {'title': 'Dell among firms conducting stay interviews to contain high attrition rates: Report',\n",
       "  'content': 'To contain the high attrition rates, some companies are now reportedly using stay interviews. In stay interviews, companies speak to the employees about their importance to the organisation while addressing the issues they might be facing prompting them to quit. Dell Technologies and Ericsson are among the companies which have been conducting such interviews with employees. ',\n",
       "  'category': 'business'},\n",
       " {'title': \"World's 3rd richest person Adani's wealth surged over 13 times in 2.5 years\",\n",
       "  'content': \"Adani Group Chairman Gautam Adani on Tuesday became the world's third richest person with a net worth of $137 billion. While his wealth stood at $10 billion on January 1, 2020, it surged by over $60 billion in 2022 alone and jumped more than thirteen times in over two and half years. Currently, his net worth stands at $143 billion. \",\n",
       "  'category': 'business'},\n",
       " {'title': \"Russia's Gazprom halts gas supply to Europe via major pipeline\",\n",
       "  'content': 'Russia stopped gas supplies via a major pipeline to Europe on Wednesday with state energy company Gazprom saying that no gas would flow into Germany between Wednesday and Saturday. This is because of the outage for maintenance on Nord Stream 1. While European governments have accused Russia of using energy supplies as a \"weapon of war\", Moscow has denied this.\\n',\n",
       "  'category': 'business'},\n",
       " {'title': 'Infosys divests entire stake in US-based Trifacta for $12 million',\n",
       "  'content': \"Infosys said that it has divested its stake in Trifacta Inc, a data preparation software company, for $12 million. Infosys had invested $4 million in the San Francisco-based company in 2016. It had a minority holding not exceeding 20% of Trifacta's outstanding share capital. Trifacta was founded in 2012 and its investors include Accel, Greylock Partners, Ignition and Cathay Innovation.\\n\",\n",
       "  'category': 'business'},\n",
       " {'title': 'SoftBank Corporate Officer Rajeev Misra steps down amid record loss',\n",
       "  'content': \"SoftBank Group's Corporate Officer and Executive Vice President Rajeev Misra is stepping down from his roles, the Japanese conglomerate said on Wednesday. This development follows a record loss at the Japanese investment group after a slide in technology stocks. Misra will retain his position as head of SoftBank Investment Advisers, which oversees the first Vision Fund's existing investments.\\n\",\n",
       "  'category': 'business'},\n",
       " {'title': \"Most of crypto still junk: JP Morgan's digital assets division head\",\n",
       "  'content': 'JP Morgan\\'s digital assets division head Umar Farooq said majority of crypto assets are \"junk\" and actual crypto use cases haven\\'t fully materialised. Regulation hasn\\'t kept up with the expanding industry, thereby discouraging many conventional financial institutions from participating, he said. Industry hasn\\'t developed sufficiently to be used to support high-value serious transactions, he added.',\n",
       "  'category': 'business'},\n",
       " {'title': 'Netflix hires 2 top advertising executives from Snapchat-parent Snap Inc',\n",
       "  'content': \"Netflix on Tuesday announced that it has hired two top executives from Snap Inc. The firm's Chief Business Officer Jeremi Gorman has been hired as Netflix's head of worldwide advertising while Snap Inc's VP of advertising sales Peter Naylor has been hired for the same role. The hiring signals Netflix's commitment to building an ad-supported version of its streaming service.\",\n",
       "  'category': 'business'},\n",
       " {'title': 'Japan calls for $24 bn investment to boost battery competitiveness',\n",
       "  'content': \"Japan's Ministry of Economy, Trade and Industry said that the country needs an investment worth over $24 billion from the public and private sectors to develop a competitive manufacturing base for batteries used in electric vehicles (EVs). A specialist panel has set a target of securing 30,000 trained workers for battery manufacturing and supply chains by 2030.\\n\",\n",
       "  'category': 'business'},\n",
       " {'title': \"Indonesia's GoTo seeks to raise $1 billion via convertible bonds: Report\",\n",
       "  'content': \"Indonesia's largest technology firm GoTo is seeking to raise about $1 billion through a convertible bond issue, Reuters reported. The company, formed last year after the merger of ride hailing firm Gojek and e-commerce leader Tokopedia, is reportedly working with three financial advisors for the offering. The offer is expected to be launched in the fourth quarter.\",\n",
       "  'category': 'business'},\n",
       " {'title': \"Tata Motors completes buying of Marcopolo's stake for ₹99.96 crore\",\n",
       "  'content': \"Tata Motors has completed the acquisition of its partner Marcopolo's stake in their joint venture Tata Marcopolo Motors Limited (TMML) for ₹99.96 crore. The 51:49 joint venture between the two was formed in 2006. Tata Motors and Marcopolo had signed a deal under which the former agreed to purchase 49% shareholding of Marcopolo in the joint venture in December 2020.\\n\",\n",
       "  'category': 'business'},\n",
       " {'title': 'Axis Bank looking to acquire 10% stake in Go Digit: Report',\n",
       "  'content': 'Axis Bank is looking to acquire a 10% stake for around $9 million in Go Digit Life Insurance, as per a report. Last week, HDFC Bank in a regulatory filing declared that it was planning to buy a 9.94% stake in Go Digit Life for $9 million. Go Digit Insurance recently filed papers to raise $440 million via an IPO. ',\n",
       "  'category': 'business'},\n",
       " {'title': 'EV firm Lucid files mixed shelf offering of up to $8 bn',\n",
       "  'content': 'Electric vehicle company Lucid Group Inc has filed for a new mixed shelf offering of up to $8 billion. Under this, the EV maker may sell different securities in either one or more offerings with the size, price and terms to be decided at the time of sale. Lucid has a market capitalisation of about $27 billion. ',\n",
       "  'category': 'business'},\n",
       " {'title': 'States, UTs to get chana at ₹8/kg discount for welfare schemes',\n",
       "  'content': 'The Union Cabinet has approved the disposal of 15 lakh tonne of chana to states and Union Territories at a discount of ₹8/kg for utilisation in various welfare schemes. These will be offered on a \"first come, first served\" basis and can be utilised in Mid Day Meal Scheme, Public Distribution System and Integrated Child Development Services, among others.',\n",
       "  'category': 'business'},\n",
       " {'title': 'Pak at challenging economic juncture: IMF while approving bailout',\n",
       "  'content': 'Pakistan is at a \"challenging economic juncture\", the International Monetary Fund (IMF) said while approving a $1.17 billion bailout plan amid widespread destruction due to floods. IMF\\'s Executive Board completed the reviews of a loan facility for Pakistan on Monday. It will put the cash-starved country\\'s economy back on track averting an imminent default amid persisting political uncertainty.\\n',\n",
       "  'category': 'business'},\n",
       " {'title': 'IMF to make formal announcement on SL bailout package on Thurs: Report',\n",
       "  'content': \"International Monetary Fund (IMF) is likely to conclude talks with the Sri Lankan government and make a formal announcement on Thursday on the bailout package and staff-level agreement for the cash-strapped country, according to reports. The ongoing talks are regarding a $5 billion bailout package for Sri Lanka. This is IMF delegation's second visit to Sri Lanka in three months.\",\n",
       "  'category': 'business'},\n",
       " {'title': 'Tata Steel to invest in hydrogen-based steel production in Netherlands',\n",
       "  'content': 'Tata Steel has said that it will invest more than €65 million for hydrogen-based steel manufacturing in the Netherlands. The company has signed pacts with three firms - McDermott, Danieli and Hatch for further technical preparations. McDermott will manage construction input, Danieli will oversee engineering design and Hatch will help improve the final steel quality.',\n",
       "  'category': 'business'},\n",
       " {'title': 'Air India retains Captain RS Sandhu as Chief of Operations',\n",
       "  'content': \"Tata-owned Air India announced on Tuesday that Captain RS Sandhu will continue to lead as its Chief of Operations till further notice. In July 2020, the Appointments Committee of the Cabinet cleared his appointment for the role. This makes Sandhu one of the few top management people from Air India's government-owned days to be retained after the Tatas took over.\",\n",
       "  'category': 'business'},\n",
       " {'title': 'NSDL likely to shortlist 7 investment banks for 2023 IPO: Reports',\n",
       "  'content': \"IDBI Bank and the NSE-backed National Securities Depository Limited (NSDL) is likely to shortlist seven investment banks as advisors in its preparation to launch an initial public offer next year, according to reports. If the listing is successful, NSDL will become the second depository services firm to be listed on Indian bourses after Central Depository Services Limited's debut in 2017.\\n\",\n",
       "  'category': 'business'},\n",
       " {'title': \"India's B2B general trade to reach $1.2 trillion by 2030: Redseer\",\n",
       "  'content': \"According to a report by Redseer Strategy Consultants, the general business-to-business (B2B) trade in India will reach $1.2 trillion by 2030, with the driving factor being B2B e-commerce. The unorganised general trade channel that drives India's retail market will double from $0.7 trillion to $1.4 trillion. The B2B e-commerce market will reach $90-100 billion in gross merchandise value. \",\n",
       "  'category': 'business'},\n",
       " {'title': 'FPIs turn net buyers of Indian shares in a month 1st time since Sept 2021',\n",
       "  'content': \"In August 2022, the first month of net inflows for Dalal Street since September 2021, foreign portfolio investors (FPIs) emerged as net buyers of Indian equities with net purchases at ₹22,025.8 crore for the month, provisional exchange data showed. Net sales by domestic institutional investors (DIIs) stood at ₹7,068.9 crore. This was first month of DIIs' outflows in 16 months.\",\n",
       "  'category': 'business'},\n",
       " {'title': 'Hardik Pandya achieves his highest-ever spot in rankings for T20I all-rounders',\n",
       "  'content': 'Following his match-winning performance against Pakistan, Team India all-rounder Hardik Pandya jumped eight places in the latest rankings for T20I all-rounders to a career-best fifth position. Pandya took three wickets and scored an unbeaten 33 off 17 deliveries against Pakistan. Pandya is ranked 76th and 79th in T20I rankings for batters and bowlers, respectively.',\n",
       "  'category': 'sports'},\n",
       " {'title': 'India announce their playing XI for match against Hong Kong, Hardik Pandya rested',\n",
       "  'content': 'Hong Kong captain Nizakat Khan won the toss and elected to bowl first against India in their Asia Cup 2022 match on Wednesday. India have made one change to their playing XI, with Rishabh Pant replacing Hardik Pandya. India captain Rohit Sharma said at the toss that they are resting Hardik, who was named Player of the Match against Pakistan.',\n",
       "  'category': 'sports'},\n",
       " {'title': 'Rohit Sharma becomes first cricketer to reach 3,500 runs in T20I cricket',\n",
       "  'content': \"Team India captain Rohit Sharma has become the first cricketer to score 3,500 runs in T20I cricket. The 35-year-old reached the milestone during his 13-ball 21-run innings against Hong Kong in Asia Cup 2022. It was Rohit's 126th innings in T20Is. Rohit also holds the record for most hundreds in T20I cricket with four tons.\",\n",
       "  'category': 'sports'},\n",
       " {'title': 'Indian fan receives death threats for wearing Pakistan jersey during India-Pakistan match',\n",
       "  'content': 'Indian fan, who was seen wearing a Pakistan jersey during the Indian-Pakistan Asia Cup 2022 match in Dubai on Sunday, has received death threats, with people terming him a \"traitor\". The man, who hails from Uttar Pradesh, stated that he wore Pakistan jersey to tease Pakistani fans. He added that when he reached the stadium, Indian jerseys were sold out.',\n",
       "  'category': 'sports'},\n",
       " {'title': \"I have no idea, this question is out of my book: Jadeja on why Pant didn't play vs Pak\",\n",
       "  'content': 'During a press conference ahead of India-Hong Kong Asia Cup 2022 match, a journalist asked Ravindra Jadeja why Rishabh Pant wasn\\'t included in India\\'s playing XI for the match against Pakistan. Jadeja responded, \"I have no idea about this. This question is out of my book.\" India will face Hong Kong tonight.',\n",
       "  'category': 'sports'},\n",
       " {'title': 'India, Pakistan players fined 40% of match fee each for slow over-rate offence',\n",
       "  'content': \"India and Pakistan players have been fined 40% of their match fee each for maintaining a slow over-rate in their Asia Cup 2022 match on Sunday. Match referee Jeff Crowe imposed the sanctions after Rohit Sharma and Babar Azam's sides were ruled to be two overs short of their respective targets after time allowances were taken into consideration.\",\n",
       "  'category': 'sports'},\n",
       " {'title': 'Tennis player Sara responds to criticism over father, coach patting her backside after win',\n",
       "  'content': 'Czechia\\'s 16-year-old tennis player Sara Bejlek responded to criticism over her father and coach patting her backside after her win in US Open. \"It may...seem inconvenient & uncomfortable to some...but we\\'ve already discussed it...It won\\'t happen again,\" Sara said. She added, \"If something similar happened in...Czechia...no one would deal with it...But since we\\'re in US...everyone comments on it.\"',\n",
       "  'category': 'sports'},\n",
       " {'title': 'We thought we had it when Afghanistan needed 60-odd runs in last 6 overs: Shakib',\n",
       "  'content': 'Bangladesh captain Shakib Al Hasan has said they thought they had the game when Afghanistan were 65/3 after 14 overs and needed 63 runs to win in their Asia Cup match on Tuesday. \"[But] credit to Afghanistan...credit to Najibullah Zadran,\" added Shakib. Najibullah smashed 43*(17) to help Afghanistan chase down the target in 18.3 overs and win by seven wickets. ',\n",
       "  'category': 'sports'},\n",
       " {'title': \"I was surprised by Pant's exclusion from playing XI vs Pak: Parthiv\",\n",
       "  'content': 'Ex-India cricketer Parthiv Patel has said that he was surprised by Rishabh Pant\\'s exclusion from India\\'s playing XI against Pakistan in the Asia Cup. \"Everyone is debating over who should play, Rishabh Pant or Dinesh Karthik. But that\\'s a wrong comparison...I feel Kohli should open in place of KL Rahul and Pant should bat in the middle order,\" added Parthiv.',\n",
       "  'category': 'sports'},\n",
       " {'title': \"With Agastya's arrival, Hardik has become more focused: Nehra\",\n",
       "  'content': 'Ex-India pacer Ashish Nehra has said all-rounder Hardik Pandya has become more focused since the birth of his son Agastya Pandya in 2020. \"Hardik said he has learned different things from different experiences. Now he\\'s married, father of a kid and matured...That is great for him and Indian cricket...[and] he\\'s only 28, he has a lot of time,\" added Nehra. ',\n",
       "  'category': 'sports'},\n",
       " {'title': \"Pant can get into this side if Rahul doesn't find his form: Saba Karim\",\n",
       "  'content': 'Former India cricketer Saba Karim has said with Dinesh Karthik being preferred for the role of a finisher in T20Is, wicketkeeper-batter Rishabh Pant can only get into the playing XI if KL Rahul doesn\\'t find his form. \"Only then, Pant could get a chance to play [as an opener]. Otherwise, there is no place vacant,\" added Karim.',\n",
       "  'category': 'sports'},\n",
       " {'title': 'Kohli will score his 71st century vs Hong Kong: SL spinner Theekshana',\n",
       "  'content': 'Sri Lanka spinner Maheesh Theekshana, during an interview, predicted that Virat Kohli will score his 71st international century against Hong Kong today. Theekshana further said that he wants India and Sri Lanka to feature in the final of the ongoing Asia Cup. \"I want to...get Kohli out. He is an absolutely brilliant player,\" added the 22-year-old. ',\n",
       "  'category': 'sports'},\n",
       " {'title': \"No point in Hardik playing against HK if he isn't going to bowl: Parthiv\",\n",
       "  'content': 'Ex-Team India wicketkeeper-batter Parthiv Patel said there is \"no point\" in Team India all-rounder Hardik Pandya playing against Hong Kong if he is not going to bowl. \"I don\\'t see Hardik bowling against Hong Kong...If he isn\\'t playing, then Deepak Hooda could come in,\" added Parthiv. Hardik picked three wickets while conceding 25 runs in India\\'s win against Pakistan.',\n",
       "  'category': 'sports'},\n",
       " {'title': 'Two-time champion Naomi Osaka crashes out of US Open in 1st round',\n",
       "  'content': \"Two-time champion Naomi Osaka has crashed out of the ongoing US Open 2022 after losing in her women's singles first-round match in straight sets against Danielle Collins. Osaka, who had won the US Open in 2018 and 2020, lost with a scoreline of 6-7, 3-6. Former world number one Osaka's ranking has fallen to 44 in the ongoing season. \",\n",
       "  'category': 'sports'},\n",
       " {'title': \"I can't believe his place is under threat: Styris on Manjrekar's remark over Kohli\",\n",
       "  'content': 'During a discussion ahead of India\\'s match against Hong Kong, Sanjay Manjrekar said the competition from youngsters will not make things easy for Virat Kohli in upcoming matches. To this, Scott Styris said, \"I can\\'t believe that.\" The ex-NZ cricketer further said, \"Are we really talking about Kohli not making this team?\" Kohli scored 35(34) against Pakistan on Sunday. ',\n",
       "  'category': 'sports'},\n",
       " {'title': \"Afghanistan capable of 'not letting' India make a comeback: Ajay Jadeja\",\n",
       "  'content': 'Ex-India cricketer Ajay Jadeja said he \"won\\'t be surprised\" if Afghanistan \"knock one of the big teams off\", having defeated Sri Lanka and Bangladesh in the Asia Cup so far. \"Imagine either of the teams, India or Pakistan, are 20/2 or 30/2, then Afghanistan won\\'t allow them to make a comeback. These guys have that ability,\" added Ajay.',\n",
       "  'category': 'sports'},\n",
       " {'title': \"Ronaldo's situation reminds me of Beckham: Ex-Netherlands coach Bert\",\n",
       "  'content': 'Ex-Netherlands coach Bert van Marwijk said a player like Cristiano Ronaldo often has a \"suffocating effect\" on a team. \"I look at the situation of Ronaldo [at Manchester United] and it reminds me of what happened with David Beckham,\" added Bert. \"Beckham was the most popular footballer in...Britain, but one day Sir Alex Ferguson just sent him away,\" he stated.',\n",
       "  'category': 'sports'},\n",
       " {'title': \"He never played 'such poor shots' earlier: Sehwag on Kohli's 35 vs Pak\",\n",
       "  'content': 'Discussing Virat Kohli\\'s 35 off 34 balls against Pakistan, Virender Sehwag said, \"He\\'d never get out in a chase of 150. Never...[played] such poor shots.\" \"The batting which we\\'re used to seeing from Kohli...that\\'s yet to be seen,\" added Sehwag. \"We\\'re hoping that by the time [the] T20 World Cup comes around, Kohli returns to the old mindset,\" he stated.',\n",
       "  'category': 'sports'},\n",
       " {'title': \"Serena Williams is a 'bad lady' when she's on the court: Andy Roddick\",\n",
       "  'content': 'Ex-world number one Andy Roddick said 23-time Grand Slam champion Serena Williams is a \"bad lady\" when she is on the court. \"You don\\'t want to mess with her...She\\'s probably been guilty of going to the press room too quickly after losses sometimes,\" added Roddick. Roddick stated that Serena is a joy to be around when not in \"go mode\".',\n",
       "  'category': 'sports'},\n",
       " {'title': \"I don't think one or two failures will make them drop Rahul: Jaffer\",\n",
       "  'content': 'Ex-cricketer Wasim Jaffer has said India are unlikely to make any changes in their playing XI for their Asia Cup match against Hong Kong. \"I don\\'t think one or two failures will make them drop KL Rahul or make any changes unless there\\'s an injury issue,\" he stated. Rahul was dismissed for a golden duck against Pakistan. ',\n",
       "  'category': 'sports'},\n",
       " {'title': \"You're doing grave injustice to him: Aakash on Karthik batting at no. 7\",\n",
       "  'content': 'Commentator Aakash Chopra has said if Team India needs a left-hander at the number four position, then Rishabh Pant should be included in the playing XI. \"Because, at number seven, you are doing a grave injustice to Dinesh Karthik also,\" stated Aakash. India had promoted left-handed all-rounder Ravindra Jadeja to the number four position against Pakistan. ',\n",
       "  'category': 'sports'},\n",
       " {'title': \"India faced a 'lot of difficulty' when they last played Hong Kong: Jaffer\",\n",
       "  'content': 'Ex-Team India opener Wasim Jaffer said Team India faced a \"lot of\" difficulty when they last played against Hong Kong in the Asia Cup in 2018. \"They had a 174-175 run opening partnership...It was a very close match...India won\\'t be complacent at all,\" added Jaffer. Hong Kong captain Nizakat Khan earlier stated \"anything can happen\" when the teams face off.',\n",
       "  'category': 'sports'},\n",
       " {'title': \"Plan was to bowl wicket to wicket and it worked: Mujeeb on 3/16 vs B'desh\",\n",
       "  'content': \"Talking about his performance in their Asia Cup match against Bangladesh, Afghanistan spinner Mujeeb Ur Rahman said his plan was to bowl wicket to wicket and it worked. Mujeeb was named 'Man of the Match' after he dismissed Bangladesh's top-three batters while conceding 16 runs in his four overs. Afghanistan chased down Bangladesh's 128-run target in 18.3 overs. \",\n",
       "  'category': 'sports'},\n",
       " {'title': \"David Warner shares Lord Ganesha's pic, extends greetings on Ganesh Chaturthi\",\n",
       "  'content': 'Australia opener David Warner has extended greetings on the occasion of Ganesh Chaturthi. Warner took to Twitter to share a photo of him praying to Lord Ganesha and wrote, \"To all of my friends out there, Happy Ganesh Chaturthi. Wishing you lots of joy and happiness!\" Warner is currently part of Australia\\'s three-match ODI series against Zimbabwe. ',\n",
       "  'category': 'sports'},\n",
       " {'title': \"Team India can tackle our bowlers, Pak can't: Ex-Afghanistan captain Asghar\",\n",
       "  'content': 'Former Afghanistan captain Asghar Afghan said Afghanistan can beat Pakistan in the Asia Cup if they remain calm. \"The Indian players can play our bowlers well because they have played a lot [against them] in the IPL...They have an idea of our bowlers,\" added Asghar. \"The players of Pakistan...don\\'t know how to tackle our bowlers,\" he stated.',\n",
       "  'category': 'sports'},\n",
       " {'title': \"Musk cites whistleblower's claims in new notice as reason to end Twitter deal\",\n",
       "  'content': \"Tesla CEO Elon Musk's legal team has filed another notice informing about the termination of his $44 billion deal to buy Twitter, citing additional reasons. The follow-up notice cited allegations made by whistleblower Peiter Zatko as additional reasons to terminate the deal and stated that those allegations were known to Twitter prior to July 8 but weren't disclosed to them. \",\n",
       "  'category': 'technology'},\n",
       " {'title': '2 top executives at Snap quit hours after report about 20% layoffs emerges',\n",
       "  'content': 'Two senior advertising executives at Snap quit hours after a report emerged stating that the company was planning to cut about 20% of its workforce. Earlier, a report by The Verge, while citing sources, said that Snap is planning to lay off 20% of its more than 6,400 employees after it reported weak Q2 results. ',\n",
       "  'category': 'technology'},\n",
       " {'title': \"Facebook's Gaming app to be shut down in October this year\",\n",
       "  'content': \"Facebook’s Gaming app for iOS and Android is shutting down and will no longer be available for download from October 28, 2022. The Meta-owned company didn't specify the reason for shutting down the app. While Facebook Gaming was introduced in 2018, it took the service two years to develop a mobile app. \\n\",\n",
       "  'category': 'technology'},\n",
       " {'title': 'Snap to lay off 20% of staff, cancel several projects to cut costs',\n",
       "  'content': 'Snap said on Wednesday it will lay off 20% of its staff and shut down original shows, in-app games and several other projects as part of a corporate restructuring. As per CEO  Evan Spiegel, Snap\\'s current revenue growth rate is \"well below\" what the company was expecting. The cut will help Snap save an estimated $500 million in costs annually. ',\n",
       "  'category': 'technology'},\n",
       " {'title': \"Musk seeks to delay Twitter trial to Nov amid whistleblower's claims\",\n",
       "  'content': \"Tesla CEO Elon Musk is seeking to delay the trial with Twitter until November, as per court filings. The five-day trial is currently scheduled to start on October 17. The court filings came after Musk's legal team sent a fresh letter to Twitter to include whistleblower Peiter Zatko's claims as another reason to end the $44 billion deal.\",\n",
       "  'category': 'technology'},\n",
       " {'title': 'American man sues Tesla over car suddenly stopping for non-existent obstacles',\n",
       "  'content': 'Jose Alvarez Toledo, a Tesla Model 3 owner from US\\' San Francisco, has sued Tesla in a proposed class action over the car suddenly stopping for non-existent obstacles. He called it a \"frightening and dangerous nightmare\". The lawsuit seeks class action status for all US owners or lessors of a Tesla that suffers from the sudden unintended braking defect.',\n",
       "  'category': 'technology'},\n",
       " {'title': 'Tesla reveals virtual power plant in Japan with over 300 batteries',\n",
       "  'content': \"Tesla has revealed that it has been building a virtual power plant (VPP) on Japan's Miyakojima island since 2021 and now has over 300 Powerwall batteries installed. It's the largest commercial VPP in Japan, the company said in a statement. Installed at homes, these solar-powered batteries can send excess power to the area's electric grid when power supply is strained.\",\n",
       "  'category': 'technology'},\n",
       " {'title': \"Microsoft's cloud computing changes criticised by Amazon, Google\",\n",
       "  'content': \"Microsoft's cloud computing changes faced criticisms from Amazon and Google on Tuesday with both saying that the changes discourage customers from switching to rival cloud service providers thereby limiting competition. After cloud service providers complained to the EU antitrust regulators against Microsoft, it announced amended licensing deals and changes that will be brought in on October 1.\\n\",\n",
       "  'category': 'technology'},\n",
       " {'title': 'Nazara Technologies acquires US-based WildWorks for $10.4 million',\n",
       "  'content': \"Mobile gaming and sports media platform Nazara Technologies Limited on Tuesday announced that it will acquire a 100% stake WildWorks, a US-based children’s interactive entertainment company for $10.4 million in an all-cash transaction. Nazara's shares surged nearly 2.6% to touch an intraday high of ₹647.35 and were trading 1.8% higher on the BSE at 11.25 am.\",\n",
       "  'category': 'technology'},\n",
       " {'title': 'Infosys divests entire stake in US-based Trifacta for $12 million',\n",
       "  'content': \"Infosys said that it has divested its stake in Trifacta Inc, a data preparation software company, for $12 million. Infosys had invested $4 million in the San Francisco-based company in 2016. It had a minority holding not exceeding 20% of Trifacta's outstanding share capital. Trifacta was founded in 2012 and its investors include Accel, Greylock Partners, Ignition and Cathay Innovation.\\n\",\n",
       "  'category': 'technology'},\n",
       " {'title': 'Google to give ₹25 lakh reward for spotting bugs under new programme',\n",
       "  'content': 'Google has launched a new Vulnerability Reward Program under which it\\'ll award up to $31,337 (nearly ₹25 lakh) to researchers who spot vulnerabilities in Alphabet and Google\\'s Open Source projects. The rewards will range from $100 to $31,337. The larger amounts will go to unusual or particularly interesting vulnerabilities, \"so creativity is encouraged\", Google said while launching the programme.',\n",
       "  'category': 'technology'},\n",
       " {'title': \"LinkedIn's chat, job posting tools being used to steal users' data: Report\",\n",
       "  'content': 'LinkedIn is being used by hackers to spread data-stealing malware by sending connection requests in disguise of people working with reputed firms, a CloudSEK report said. Hackers share malicious files and links which deploy a stealer malware for stealing passwords and other sensitive data. \"This large-scale misuse of LinkedIn could be the gravest threat yet,\" CloundSEK CEO Rahul Sasi said.',\n",
       "  'category': 'technology'},\n",
       " {'title': 'Netflix hires 2 top advertising executives from Snapchat-parent Snap Inc',\n",
       "  'content': \"Netflix on Tuesday announced that it has hired two top executives from Snap Inc. The firm's Chief Business Officer Jeremi Gorman has been hired as Netflix's head of worldwide advertising while Snap Inc's VP of advertising sales Peter Naylor has been hired for the same role. The hiring signals Netflix's commitment to building an ad-supported version of its streaming service.\",\n",
       "  'category': 'technology'},\n",
       " {'title': \"Indonesia's GoTo seeks to raise $1 billion via convertible bonds: Report\",\n",
       "  'content': \"Indonesia's largest technology firm GoTo is seeking to raise about $1 billion through a convertible bond issue, Reuters reported. The company, formed last year after the merger of ride hailing firm Gojek and e-commerce leader Tokopedia, is reportedly working with three financial advisors for the offering. The offer is expected to be launched in the fourth quarter.\",\n",
       "  'category': 'technology'},\n",
       " {'title': \"Most of crypto still junk: JP Morgan's digital assets division head\",\n",
       "  'content': 'JP Morgan\\'s digital assets division head Umar Farooq said majority of crypto assets are \"junk\" and actual crypto use cases haven\\'t fully materialised. Regulation hasn\\'t kept up with the expanding industry, thereby discouraging many conventional financial institutions from participating, he said. Industry hasn\\'t developed sufficiently to be used to support high-value serious transactions, he added.',\n",
       "  'category': 'technology'},\n",
       " {'title': 'Japan calls for $24 bn investment to boost battery competitiveness',\n",
       "  'content': \"Japan's Ministry of Economy, Trade and Industry said that the country needs an investment worth over $24 billion from the public and private sectors to develop a competitive manufacturing base for batteries used in electric vehicles (EVs). A specialist panel has set a target of securing 30,000 trained workers for battery manufacturing and supply chains by 2030.\\n\",\n",
       "  'category': 'technology'},\n",
       " {'title': '45 data centres with 1,015 MW IT capacity to come up by 2025-end: Report',\n",
       "  'content': 'Over 45 data centres spanning nearly 13 million square feet and with 1,015 MW of IT capacity are planned to come up in India by 2025-end, according to an ANAROCK-Binswanger report. In terms of IT capacity, over 69% of planned supply will come up in Mumbai and Chennai. COVID-19 outbreak has propelled data centre business forward, an ANAROCK official said.',\n",
       "  'category': 'technology'},\n",
       " {'title': 'Cybercrime cases in 2021 rose by 5%, fraud most common motive: NCRB',\n",
       "  'content': \"Cybercrime cases reported in India in 2021 rose by 5% compared with 2020 and fraud was the most common cybercrime motive, according to National Crime Records Bureau's latest data. While charge sheets were filed in only one-third of such cases, the states of Assam, Karnataka, Telangana and UP reported over 70% of cybercrimes. India reported 52,974 cybercrime cases in 2021.\",\n",
       "  'category': 'technology'},\n",
       " {'title': 'Google to award up to $31,337 in new open source bug bounty program',\n",
       "  'content': 'Google has launched a new Vulnerability Rewards Program (VRP) to reward researchers for finding bugs in its open source projects. The rewards will range from $100 to $31,337, with larger amounts to be given for finding bugs in most sensitive projects like Angular and Golang. Google said it has given over $38 million through its existing VRP programs so far.',\n",
       "  'category': 'technology'},\n",
       " {'title': '45-50 million EVs to be on Indian roads by 2030: KPMG',\n",
       "  'content': 'The total number of electric vehicles (EV) on Indian roads is likely to reach 45 to 50 million by 2030, according to a report by consultancy firm KPMG. As per the Ministry of Road Transport and Highways, there are currently 13,92,265 EVs plying on Indian roads and EV sales in India have seen a three-time growth over the past year.',\n",
       "  'category': 'technology'},\n",
       " {'title': 'SoftBank Corporate Officer Rajeev Misra steps down amid record loss',\n",
       "  'content': \"SoftBank Group's Corporate Officer and Executive Vice President Rajeev Misra is stepping down from his roles, the Japanese conglomerate said on Wednesday. This development follows a record loss at the Japanese investment group after a slide in technology stocks. Misra will retain his position as head of SoftBank Investment Advisers, which oversees the first Vision Fund's existing investments.\\n\",\n",
       "  'category': 'technology'},\n",
       " {'title': 'Update Mozilla Firefox browser to avoid various vulnerabilities: CERT-In to users',\n",
       "  'content': 'Indian Computer Emergency Response Team (CERT-In) has advised users to immediately update Mozilla Firefox browsers to avoid various vulnerabilities. The bugs in the browser could allow a remote attacker to bypass security restrictions, execute arbitrary code and cause denial of service attack on the targeted system, CERT-In said. Vulnerabilities exist due to abuse of XSLT error handling, it added.',\n",
       "  'category': 'technology'},\n",
       " {'title': \"Snapchat releases 'Dual Camera' recording tool for iOS users\",\n",
       "  'content': \"Snapchat has released a 'Dual Camera' feature which will allow users to capture photos and videos using their phone's front-facing and rear cameras simultaneously. The feature will be available for iOS users on iPhone XS/XR or above, with Android compatibility rolling out later. Users will get to align their two images horizontally or vertically or use a picture-in-picture mode.    \",\n",
       "  'category': 'technology'},\n",
       " {'title': 'Aus asks Facebook, Apple to share anti-abuse plan, threatens fine',\n",
       "  'content': 'An Australian regulator sent legal letters to Meta, Apple and Microsoft, asking them for strategies to stamp out child abuse material from their platforms. Firms face a $383,000 fine per day each if they fail to comply. Out of 29.1 million reports of child abuse materials received from internet firms this year, 22 million were from Facebook, a report said.',\n",
       "  'category': 'technology'},\n",
       " {'title': \"Truth Social app hasn't been approved on Google Play Store yet: Report\",\n",
       "  'content': 'Ex-US President Donald Trump\\'s Truth Social app hasn\\'t yet been approved for distribution on Google Play Store due to insufficient content moderation, according to reports. Google\\'s concerns reportedly relate to content such as physical threats and incitements to violence. \"On August 19, we notified Truth Social of several standard policy violations in their current app submission,\" Google said.',\n",
       "  'category': 'technology'},\n",
       " {'title': 'Shah Rukh Khan celebrates Ganesh Chaturthi, shares pic of Lord Ganesha idol at home',\n",
       "  'content': 'Actor Shah Rukh Khan took to social media to share a picture of Lord Ganesha\\'s idol on the occasion of Ganesh Chaturthi. \"Ganpatiji welcomed home by lil one and me...the modaks after were delicious...the learning is, through hard work, perseverance & faith in God, you can live your dreams. Happy Ganesh Chaturthi to all,\" he wrote. ',\n",
       "  'category': 'entertainment'},\n",
       " {'title': 'Jacqueline Fernandez summoned by Delhi court in ₹200 crore extortion case',\n",
       "  'content': \"Delhi's Patiala House Court has summoned actress Jacqueline Fernandez, directing her to appear in court on September 26, in connection with a ₹200 crore extortion case involving conman Sukesh Chandrasekhar. A lawyer appearing for Delhi Police's Economic Offences Wing informed the court that Fernandez has been also summoned by Delhi Police on September 12 to join the probe.\",\n",
       "  'category': 'entertainment'},\n",
       " {'title': 'Aamir Khan to not charge fee for Laal Singh Chaddha as film to lose ₹100 crore: Report',\n",
       "  'content': \"Aamir Khan's 'Laal Singh Chaddha' has not been able to collect ₹60 crore at the domestic box office and the actor has decided to absorb the losses by forgoing his fee, reports said. The producers Viacom18 lost ₹100 crore on the film but if Aamir decides to let go of his fee, the losses will be comparatively lesser, reports added.\",\n",
       "  'category': 'entertainment'},\n",
       " {'title': \"I cheated in relationships, that's the biggest regret right now I feel: Munawar Faruqui\",\n",
       "  'content': 'Comedian Munawar Faruqui has confessed to being unfaithful in his relationships in an interview to Siddharth Kannan, saying, \"I cheated in relationship...I f**ed around. That\\'s the biggest regret right now I feel.\" Faruqui had earlier revealed that he is a married man and has a child but has been living separately from his wife and the matter is in court. ',\n",
       "  'category': 'entertainment'},\n",
       " {'title': \"Ty Burrell was meant to officiate Sarah Hyland's wedding: Jesse Tyler\",\n",
       "  'content': 'Actor Jesse Tyler Ferguson has revealed that he was not the first choice to be the wedding officiant for his \\'Modern Family\\' co-star Sarah Hyland. \"I don\\'t know if people know this, but Ty Burrell was meant to do it and there was a family emergency,\" he stated. Ty played Sarah\\'s father in the show \\'Modern Family\\'.',\n",
       "  'category': 'entertainment'},\n",
       " {'title': \"Kunal Kemmu announces directorial debut with 'Madgaon Express'\",\n",
       "  'content': \"Kunal Kemmu on Wednesday announced his directorial debut, titled 'Madgaon Express', which is also written by him. He said the journey of becoming a director started with a thought, which turned into a dream and then turned into words on his laptop, and now, it's becoming a reality. He thanked Ritesh Sidhwani and Farhan Akhtar for believing in his vision.\",\n",
       "  'category': 'entertainment'},\n",
       " {'title': \"Mom didn't let me do 'Lust...' as focus was only on sensual scenes: Kriti\",\n",
       "  'content': 'Actress Kriti Sanon said her mother asked her to reject a role in filmmaker Karan Johar\\'s short film in \\'Lust Stories\\', which Kiara Advani played eventually, as the script\\'s \"focus was only on sensual scenes\". \"My family is middle-class and for them [such] controversial themes...can be...shocking,\" added Kriti. Kiara earlier said she accepted the role \"only\" to work with Johar.',\n",
       "  'category': 'entertainment'},\n",
       " {'title': \"I have lost 65% of my investment, it's a sabotage: 'Liger' distributor\",\n",
       "  'content': 'Discussing the failure of Vijay Deverakonda-starrer \\'Liger\\', Warangal Srinu, who was the film\\'s distributor in the South, said, \"I\\'ve lost...65% of my investment.\" \"Sabotage is the word,\" he added. \"Do we realise that in our quest to ban actors...we\\'re ruining poor families...The movie industry is going through a very bad phase...There\\'s...a concerted campaign...almost everyday,\" stated Srinu.',\n",
       "  'category': 'entertainment'},\n",
       " {'title': 'Have to see if I should keep Gaiety and Galaxy shut till Sep 9: Manoj',\n",
       "  'content': 'The executive director of G7 Multiplex and Maratha Mandir Cinema, Manoj Desai, opened up after one theatre has been shut down temporarily after recent films failed to attract people. \"There\\'s no film. Even next week, there\\'s no film. I\\'ll have to see...whether I should keep both Gaiety...Galaxy shut till September 9,\" he stated. \\'Brahmastra\\' will release on September 9.',\n",
       "  'category': 'entertainment'},\n",
       " {'title': \"Tiger Shroff asked to slash his fees post 'Heropanti 2' debacle: Reports\",\n",
       "  'content': \"Tiger Shroff reportedly signed 'Ganapath', 'Bade Miyan Chote Miyan' and 'Screw Dheela' for ₹35 crore, ₹45 crore and ₹35 crore, respectively. As per reports, after 'Heropanti 2' failed at the box office, the producers have asked Tiger to reduce his remuneration by 50%. Reportedly, Akshay Kumar has also cut down his fee for 'Bade Miyan Chote Miyan'. \",\n",
       "  'category': 'entertainment'},\n",
       " {'title': \"Kartik gets 1st darshan at Lalbaugcha Raja, thanks him for 'life-changing year'\",\n",
       "  'content': 'Kartik Aaryan, who visited Lalbaugcha Raja on Ganesh Chaturthi, shared pictures of himself on social media platforms and thanked Lord Ganesh for making 2022 \"a life-changing year\". \"Blessed to get my first darshan,\" he wrote. Kartik, whose \\'Bhool Bhulaiyaa 2\\' performed well at the box office, also hoped that Lord Ganesh continues to bless him and fulfil his wishes. ',\n",
       "  'category': 'entertainment'},\n",
       " {'title': 'Wife, I did 3 jobs in Canada to fund music career; cleaned food courts: Gippy',\n",
       "  'content': 'Actor-singer Gippy Grewal revealed he and his wife did three jobs in Canada to fund his music career. \"I\\'d drop off newspapers in the morning...I\\'d work...at this factory where we would create bricks of marble-like material...Then at night, I...my wife would do cleaning jobs [like] mopping...clearing plates at food courts,\" he added. \"My wife...made sandwiches at Subway,\" Gippy stated.',\n",
       "  'category': 'entertainment'},\n",
       " {'title': \"Allu Arjun's 'Pushpa: The Rise' screened at Moscow Film Festival\",\n",
       "  'content': 'Allu Arjun\\'s \\'Pushpa: The Rise\\' was recently screened at the Moscow International Film Festival under the \\'Blockbuster hits around the world\\' category. The Embassy of India in Moscow shared the news on its Instagram account. It said the film created a \"sensation all over the world and stood as the highest grosser in India for the year 2021\". ',\n",
       "  'category': 'entertainment'},\n",
       " {'title': 'Mention my small name along with big ones: Swastika Mukherjee to critic',\n",
       "  'content': 'Actress Swastika Mukherjee has reacted after a critic did not include her name while tweeting about her film \\'Qala\\'. Taking to Twitter, Swastika wrote, \"\\'Qala\\' belongs to me as well, I don\\'t hail from Mumbai but have been working for 22 years now, it would be great if you mention my small name along with the BIG ONES.\"',\n",
       "  'category': 'entertainment'},\n",
       " {'title': 'Dharmendra had tears after knowing I was turned away from his home: Gippy',\n",
       "  'content': 'Punjabi actor-singer Gippy Grewal said Dharmendra got \"emotional\" and had \"tears\" after Gippy shared that he was turned away from the actor\\'s home while visiting for the first time. \"He said, \\'Why did you tell...? I won\\'t be able to sleep\\',\" added Gippy. Gippy further stated that he annoyed actor Govinda \"a lot\" while visiting Mumbai for the first time.',\n",
       "  'category': 'entertainment'},\n",
       " {'title': 'I am single, looking around: Tiger following breakup rumours with Disha',\n",
       "  'content': 'Following rumours of his breakup with actress Disha Patani, actor Tiger Shroff said, \"I am single...and I am currently looking around.\" Tiger further named actress Shraddha Kapoor as the actress he would like to \"manifest a relationship with\". \"I\\'ve always been infatuated with Shraddha...She\\'s great,\" he added. \"I used to have a huge crush on Shraddha,\" Tiger had earlier said.',\n",
       "  'category': 'entertainment'},\n",
       " {'title': \"'Brahmastra' to decide budget of 'The Immortal Ashwatthama': Reports\",\n",
       "  'content': \"'The Immortal Ashwatthama' producer Ronnie Screwvala is reportedly waiting to see how Ranbir Kapoor's 'Brahmastra' performs at the box-office. If 'Brahmastra' earns ₹150-200 crore, it will give 'The Immortal Ashwatthama' team the confidence to spend ₹300 crore on its making, a source told Mid-day. Just like 'Brahmastra', Vicky Kaushal's film is also based on Indian mythology and superpowers. \",\n",
       "  'category': 'entertainment'},\n",
       " {'title': \"Response to 'Delhi Crime 2' is enormous: Actress Shefali Shah\",\n",
       "  'content': 'Actress Shefali Shah, speaking about the recently released new season of her OTT series \\'Delhi Crime\\', has said, \"The kind of response I have been receiving...is enormous.\" She further added that her character in the series is \"very dear and personal\" to her. \"I\\'m overwhelmed and grateful to know it has touched everyone as deeply,\" she stated.',\n",
       "  'category': 'entertainment'},\n",
       " {'title': 'Kartik Aaryan visits Lalbaugcha Raja on Ganesh Chaturthi, pics surface',\n",
       "  'content': \"Actor Kartik Aaryan visited Lalbaugcha Raja on the occasion of Ganesh Chaturthi along with his parents. Kartik's sister Kritika Tiwari was also seen with the actor. Several pictures of Kartik's visit to Lalbaugcha Raja have surfaced on social media. The actor, who recently featured in 'Bhool Bhulaiyaa 2', will next feature in 'Shehzada'.\",\n",
       "  'category': 'entertainment'},\n",
       " {'title': 'We have been inviting Bappa for almost 60 years now: Shraddha Kapoor',\n",
       "  'content': 'Actress Shraddha Kapoor, speaking on the occasion of Ganesh Chaturthi, has said that the whole energy that comes with the festival is \"amazing\". \"We\\'ve been inviting Bappa for almost 60 years now...The one thing I love the most about this festival is that I get to catch up with all my relatives during this time,\" she added.',\n",
       "  'category': 'entertainment'},\n",
       " {'title': \"Mouni Roy confirms Shah Rukh Khan's guest appearance in 'Brahmastra'\",\n",
       "  'content': 'Actress Mouni Roy has confirmed that Shah Rukh Khan will be seen in a guest appearance in \\'Brahmastra\\'. The actress said that even she was supposed to have a special appearance in \\'Brahmastra\\', but her role \"became lengthier\" and soon, she was the main villain in the film. She said it\\'s \"one of the most challenging roles\" of her career. ',\n",
       "  'category': 'entertainment'},\n",
       " {'title': \"Mike Tyson was paid around ₹25 crore for 'Liger': Reports\",\n",
       "  'content': \"Boxing legend Mike Tyson was reportedly paid around ₹25 crore to star in Vijay Deverakonda's 'Liger'. As per reports, Karan Johar, who co-produced the Hindi version of the film, was not willing to cast Mike in 'Liger'. However, director Puri Jagannadh was reportedly fixated on casting the former boxer, irrespective of the cost. 'Liger' released on August 25.\",\n",
       "  'category': 'entertainment'},\n",
       " {'title': \"Judge 'The Kashmir...' according to its cinematic merit: Pallavi on Oscar bid\",\n",
       "  'content': '\\'The Kashmir Files\\' actress Pallavi Joshi has responded to the opposition to her film\\'s Oscar bid. \"An award is about cinematic merit...Judge the film accordingly. But do so only on its cinematic merit,\" she stated. This comes after Anurag Kashyap and Dylan Mohan Gray had openly opposed the film being in contention to be sent to the Oscars.',\n",
       "  'category': 'entertainment'},\n",
       " {'title': 'Ramya launches her own production house, announces comeback to films',\n",
       "  'content': 'Actress-politician Ramya on Wednesday announced her return to films and that she will also be producing cinema under her production house, AppleBox Studios. The Kannada actress shared that she is \"producing two theatrical films\", which will be distributed by KRG Studios. \"I am very excited about these projects,\" she said, adding that AppleBox Studios will also be producing OTT content.',\n",
       "  'category': 'entertainment'},\n",
       " {'title': 'There are no single men: Kriti on not having actor as date at Filmfare Awards',\n",
       "  'content': 'Actress Kriti Sanon, during her red carpet appearance at the Filmfare Awards, was asked to name an actor with whom she would have liked to walk the red carpet as her date. Replying to this, she said, \"I wish I had one, he\\'d have been here...honestly speaking...There are no single men.\" Kriti was named Best Actress at the Filmfare Awards.',\n",
       "  'category': 'entertainment'}]"
      ]
     },
     "execution_count": 19,
     "metadata": {},
     "output_type": "execute_result"
    }
   ],
   "source": [
    "#Test my function!\n",
    "final_list = get_news_articles()\n",
    "final_list"
   ]
  },
  {
   "cell_type": "code",
   "execution_count": 20,
   "id": "423ba4d1",
   "metadata": {},
   "outputs": [
    {
     "data": {
      "text/plain": [
       "100"
      ]
     },
     "execution_count": 20,
     "metadata": {},
     "output_type": "execute_result"
    }
   ],
   "source": [
    "#Confirm I've collected enough information\n",
    "len(final_list)"
   ]
  },
  {
   "cell_type": "code",
   "execution_count": null,
   "id": "635b501d",
   "metadata": {},
   "outputs": [],
   "source": []
  }
 ],
 "metadata": {
  "kernelspec": {
   "display_name": "Python 3 (ipykernel)",
   "language": "python",
   "name": "python3"
  },
  "language_info": {
   "codemirror_mode": {
    "name": "ipython",
    "version": 3
   },
   "file_extension": ".py",
   "mimetype": "text/x-python",
   "name": "python",
   "nbconvert_exporter": "python",
   "pygments_lexer": "ipython3",
   "version": "3.9.12"
  }
 },
 "nbformat": 4,
 "nbformat_minor": 5
}
