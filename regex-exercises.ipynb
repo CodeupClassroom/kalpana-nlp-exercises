{
 "cells": [
  {
   "cell_type": "markdown",
   "id": "0277b0b4",
   "metadata": {},
   "source": [
    "# Regex exercises"
   ]
  },
  {
   "cell_type": "code",
   "execution_count": 1,
   "id": "13c20eb8",
   "metadata": {},
   "outputs": [
    {
     "data": {
      "application/javascript": [
       "IPython.notebook.set_autosave_interval(0)"
      ]
     },
     "metadata": {},
     "output_type": "display_data"
    },
    {
     "name": "stdout",
     "output_type": "stream",
     "text": [
      "Autosave disabled\n"
     ]
    }
   ],
   "source": [
    "#Disable autosave\n",
    "%autosave 0"
   ]
  },
  {
   "cell_type": "code",
   "execution_count": 2,
   "id": "d423ac24",
   "metadata": {},
   "outputs": [],
   "source": [
    "#Import regex library\n",
    "import re"
   ]
  },
  {
   "cell_type": "markdown",
   "id": "f4c29644",
   "metadata": {},
   "source": [
    "## Exercise 1\n",
    "\n",
    "Write a function named is_vowel. It should accept a string as input and use a regular expression to determine if the passed string is a vowel. While not explicity mentioned in the lesson, you can treat the result of re.search as a boolean value that indicates whether or not the regular expression matches the given string."
   ]
  },
  {
   "cell_type": "code",
   "execution_count": 3,
   "id": "0192c14d",
   "metadata": {},
   "outputs": [],
   "source": [
    "#Define function to determine if a character is a vowel\n",
    "def is_vowel(string):\n",
    "    \n",
    "    if re.search(r'^[aeiou]{1}$', string):\n",
    "        \n",
    "        return True\n",
    "    \n",
    "    else:\n",
    "        \n",
    "        return False"
   ]
  },
  {
   "cell_type": "code",
   "execution_count": 4,
   "id": "5af589fb",
   "metadata": {},
   "outputs": [
    {
     "data": {
      "text/plain": [
       "True"
      ]
     },
     "execution_count": 4,
     "metadata": {},
     "output_type": "execute_result"
    }
   ],
   "source": [
    "#Is 'a' a vowel?\n",
    "is_vowel('a')"
   ]
  },
  {
   "cell_type": "code",
   "execution_count": 5,
   "id": "17788beb",
   "metadata": {},
   "outputs": [
    {
     "data": {
      "text/plain": [
       "False"
      ]
     },
     "execution_count": 5,
     "metadata": {},
     "output_type": "execute_result"
    }
   ],
   "source": [
    "#What about 'aa'?\n",
    "is_vowel('aa')"
   ]
  },
  {
   "cell_type": "code",
   "execution_count": 6,
   "id": "5190733f",
   "metadata": {},
   "outputs": [
    {
     "data": {
      "text/plain": [
       "False"
      ]
     },
     "execution_count": 6,
     "metadata": {},
     "output_type": "execute_result"
    }
   ],
   "source": [
    "#Is 'g' a vowel?\n",
    "is_vowel('g')"
   ]
  },
  {
   "cell_type": "markdown",
   "id": "ad369a5a",
   "metadata": {},
   "source": [
    "## Exercise 2\n",
    "\n",
    "Write a function named is_valid_username that accepts a string as input. A valid username starts with a lowercase letter, and only consists of lowercase letters, numbers, or the _ character. It should also be no longer than 32 characters. The function should return either True or False depending on whether the passed string is a valid username."
   ]
  },
  {
   "cell_type": "code",
   "execution_count": 7,
   "id": "1285548e",
   "metadata": {},
   "outputs": [],
   "source": [
    "#Define a function to determine if a username is valid\n",
    "def is_valid_username(name):\n",
    "    \n",
    "    if re.search(r'^[a-z][a-z0-9\\_]{,31}$', name):\n",
    "        \n",
    "        return True\n",
    "    \n",
    "    else:\n",
    "        \n",
    "        return False"
   ]
  },
  {
   "cell_type": "code",
   "execution_count": 8,
   "id": "0f66064f",
   "metadata": {},
   "outputs": [
    {
     "data": {
      "text/plain": [
       "False"
      ]
     },
     "execution_count": 8,
     "metadata": {},
     "output_type": "execute_result"
    }
   ],
   "source": [
    "#Is this username too long?\n",
    "is_valid_username('aaaaaaaaaaaaaaaaaaaaaaaaaaaaaaaaa')"
   ]
  },
  {
   "cell_type": "code",
   "execution_count": 9,
   "id": "61863d55",
   "metadata": {},
   "outputs": [
    {
     "data": {
      "text/plain": [
       "True"
      ]
     },
     "execution_count": 9,
     "metadata": {},
     "output_type": "execute_result"
    }
   ],
   "source": [
    "#Is this name valid?\n",
    "is_valid_username('codeup')"
   ]
  },
  {
   "cell_type": "code",
   "execution_count": 10,
   "id": "6bff5503",
   "metadata": {},
   "outputs": [
    {
     "data": {
      "text/plain": [
       "False"
      ]
     },
     "execution_count": 10,
     "metadata": {},
     "output_type": "execute_result"
    }
   ],
   "source": [
    "#How about now?\n",
    "is_valid_username('Codeup')"
   ]
  },
  {
   "cell_type": "code",
   "execution_count": 11,
   "id": "503ae091",
   "metadata": {},
   "outputs": [
    {
     "data": {
      "text/plain": [
       "True"
      ]
     },
     "execution_count": 11,
     "metadata": {},
     "output_type": "execute_result"
    }
   ],
   "source": [
    "#Are numbers accepted?\n",
    "is_valid_username('codeup123')"
   ]
  },
  {
   "cell_type": "code",
   "execution_count": 12,
   "id": "2ce0d043",
   "metadata": {},
   "outputs": [
    {
     "data": {
      "text/plain": [
       "False"
      ]
     },
     "execution_count": 12,
     "metadata": {},
     "output_type": "execute_result"
    }
   ],
   "source": [
    "#What about at the beginning?\n",
    "is_valid_username('1codeup')"
   ]
  },
  {
   "cell_type": "markdown",
   "id": "402fe325",
   "metadata": {},
   "source": [
    "## Exercise 3\n",
    "\n",
    "Write a regular expression to capture phone numbers. It should match all of the following:\n",
    "\n",
    "(210) 867 5309  \n",
    "+1 210.867.5309  \n",
    "867-5309  \n",
    "210-867-5309"
   ]
  },
  {
   "cell_type": "code",
   "execution_count": 13,
   "id": "d5f183e3",
   "metadata": {},
   "outputs": [],
   "source": [
    "#Regex statement to capture phone numbers\n",
    "phone_capture = r'^.\\d+([\\s\\.\\)-]+\\d+)+$'"
   ]
  },
  {
   "cell_type": "code",
   "execution_count": 14,
   "id": "8a6acffb",
   "metadata": {},
   "outputs": [
    {
     "data": {
      "text/plain": [
       "<re.Match object; span=(0, 14), match='(210) 867 5309'>"
      ]
     },
     "execution_count": 14,
     "metadata": {},
     "output_type": "execute_result"
    }
   ],
   "source": [
    "#Can it handle parantheses and spaces?\n",
    "re.search(phone_capture, '(210) 867 5309')"
   ]
  },
  {
   "cell_type": "code",
   "execution_count": 15,
   "id": "ba41378e",
   "metadata": {},
   "outputs": [
    {
     "data": {
      "text/plain": [
       "<re.Match object; span=(0, 15), match='+1 210.867.5309'>"
      ]
     },
     "execution_count": 15,
     "metadata": {},
     "output_type": "execute_result"
    }
   ],
   "source": [
    "#Can it handle the plus sign and periods?\n",
    "re.search(phone_capture, '+1 210.867.5309')"
   ]
  },
  {
   "cell_type": "code",
   "execution_count": 16,
   "id": "b91aaada",
   "metadata": {},
   "outputs": [
    {
     "data": {
      "text/plain": [
       "<re.Match object; span=(0, 8), match='867-5309'>"
      ]
     },
     "execution_count": 16,
     "metadata": {},
     "output_type": "execute_result"
    }
   ],
   "source": [
    "#How about a shorter number?\n",
    "re.search(phone_capture, '867-5309')"
   ]
  },
  {
   "cell_type": "code",
   "execution_count": 17,
   "id": "ccd01c47",
   "metadata": {},
   "outputs": [
    {
     "data": {
      "text/plain": [
       "<re.Match object; span=(0, 12), match='210-867-5309'>"
      ]
     },
     "execution_count": 17,
     "metadata": {},
     "output_type": "execute_result"
    }
   ],
   "source": [
    "#What about a longer number of the same format?\n",
    "re.search(phone_capture, '210-867-5309')"
   ]
  },
  {
   "cell_type": "markdown",
   "id": "9e8a5234",
   "metadata": {},
   "source": [
    "## Exercise 4\n",
    "\n",
    "Use regular expressions to convert the dates below to the standardized year-month-day format.\n",
    "\n",
    "02/04/19  \n",
    "02/05/19  \n",
    "02/06/19  \n",
    "02/07/19  \n",
    "02/08/19  \n",
    "02/09/19  \n",
    "02/10/19"
   ]
  },
  {
   "cell_type": "code",
   "execution_count": 18,
   "id": "b88dd272",
   "metadata": {},
   "outputs": [
    {
     "data": {
      "text/plain": [
       "'19/02/04'"
      ]
     },
     "execution_count": 18,
     "metadata": {},
     "output_type": "execute_result"
    }
   ],
   "source": [
    "#Regex to reformat the date\n",
    "re.sub(r'(\\d{2})/(\\d{2})/(\\d{2})', r'\\3/\\1/\\2', '02/04/19')"
   ]
  },
  {
   "cell_type": "code",
   "execution_count": 19,
   "id": "7137b69c",
   "metadata": {},
   "outputs": [
    {
     "data": {
      "text/plain": [
       "'19/02/05'"
      ]
     },
     "execution_count": 19,
     "metadata": {},
     "output_type": "execute_result"
    }
   ],
   "source": [
    "#Test on a different date\n",
    "re.sub(r'(\\d{2})/(\\d{2})/(\\d{2})', r'\\3/\\1/\\2', '02/05/19')"
   ]
  },
  {
   "cell_type": "markdown",
   "id": "a3ee22c0",
   "metadata": {},
   "source": [
    "## Exercise 5\n",
    "\n",
    "Write a regex to extract the various parts of these logfile lines:\n",
    "\n",
    "GET /api/v1/sales?page=86 [16/Apr/2019:193452+0000] HTTP/1.1 {200} 510348 \"python-requests/2.21.0\" 97.105.19.58  \n",
    "\n",
    "POST /users_accounts/file-upload [16/Apr/2019:193452+0000] HTTP/1.1 {201} 42 \"User-Agent: Mozilla/5.0 (X11; Fedora; Fedora; Linux x86_64) AppleWebKit/537.36 (KHTML, like Gecko) Chrome/73.0.3683.86 Safari/537.36\" 97.105.19.58  \n",
    "\n",
    "GET /api/v1/items?page=3 [16/Apr/2019:193453+0000] HTTP/1.1 {429} 3561 \"python-requests/2.21.0\" 97.105.19.58"
   ]
  },
  {
   "cell_type": "code",
   "execution_count": 20,
   "id": "b2dc2ca2",
   "metadata": {},
   "outputs": [],
   "source": [
    "#Save the first log to a variable\n",
    "log1 = 'GET /api/v1/sales?page=86 [16/Apr/2019:193452+0000] HTTP/1.1 {200} 510348 \"python-requests/2.21.0\" 97.105.19.58'"
   ]
  },
  {
   "cell_type": "code",
   "execution_count": 21,
   "id": "515f927a",
   "metadata": {},
   "outputs": [
    {
     "data": {
      "text/plain": [
       "{'action': 'GET',\n",
       " 'url': '/api/v1/sales?page=86',\n",
       " 'date': '16/Apr/2019:193452+0000',\n",
       " 'request_type': 'HTTP/1.1',\n",
       " 'response': '200',\n",
       " 'file_size': '510348',\n",
       " 'user_agent': 'python-requests/2.21.0',\n",
       " 'ip_address': '97.105.19.58'}"
      ]
     },
     "execution_count": 21,
     "metadata": {},
     "output_type": "execute_result"
    }
   ],
   "source": [
    "#Develop a regex string to extract information from the log\n",
    "match1 = re.search(r'(?P<action>\\w+)\\s(?P<url>[a-z0-9\\/\\?\\=\\_\\-]+)\\s\\[(?P<date>[\\w\\/\\:\\+]+)\\]\\s(?P<request_type>[\\w\\/\\.]+)\\s\\{(?P<response>\\d+)\\}\\s(?P<file_size>\\d+)\\s\\\"(?P<user_agent>.+)\\\"\\s(?P<ip_address>[\\d\\.]+)', log1)\n",
    "\n",
    "match1.groupdict()"
   ]
  },
  {
   "cell_type": "code",
   "execution_count": 22,
   "id": "2918f82c",
   "metadata": {},
   "outputs": [],
   "source": [
    "#Save the regex statement to a variable\n",
    "logfile_regex = r'(?P<action>\\w+)\\s(?P<url>[a-z0-9\\/\\?\\=\\_\\-]+)\\s\\[(?P<date>[\\w\\/\\:\\+]+)\\]\\s(?P<request_type>[\\w\\/\\.]+)\\s\\{(?P<response>\\d+)\\}\\s(?P<file_size>\\d+)\\s\\\"(?P<user_agent>.+)\\\"\\s(?P<ip_address>[\\d\\.]+)'"
   ]
  },
  {
   "cell_type": "code",
   "execution_count": 23,
   "id": "4f34d76c",
   "metadata": {},
   "outputs": [],
   "source": [
    "#Save the other log files to variables\n",
    "log2 = 'POST /users_accounts/file-upload [16/Apr/2019:193452+0000] HTTP/1.1 {201} 42 \"User-Agent: Mozilla/5.0 (X11; Fedora; Fedora; Linux x86_64) AppleWebKit/537.36 (KHTML, like Gecko) Chrome/73.0.3683.86 Safari/537.36\" 97.105.19.58'\n",
    "log3 = 'GET /api/v1/items?page=3 [16/Apr/2019:193453+0000] HTTP/1.1 {429} 3561 \"python-requests/2.21.0\" 97.105.19.58'"
   ]
  },
  {
   "cell_type": "code",
   "execution_count": 24,
   "id": "e148e8ca",
   "metadata": {},
   "outputs": [
    {
     "data": {
      "text/plain": [
       "{'action': 'POST',\n",
       " 'url': '/users_accounts/file-upload',\n",
       " 'date': '16/Apr/2019:193452+0000',\n",
       " 'request_type': 'HTTP/1.1',\n",
       " 'response': '201',\n",
       " 'file_size': '42',\n",
       " 'user_agent': 'User-Agent: Mozilla/5.0 (X11; Fedora; Fedora; Linux x86_64) AppleWebKit/537.36 (KHTML, like Gecko) Chrome/73.0.3683.86 Safari/537.36',\n",
       " 'ip_address': '97.105.19.58'}"
      ]
     },
     "execution_count": 24,
     "metadata": {},
     "output_type": "execute_result"
    }
   ],
   "source": [
    "#Test the regex against the second log file\n",
    "match2 = re.search(logfile_regex, log2)\n",
    "\n",
    "match2.groupdict()"
   ]
  },
  {
   "cell_type": "code",
   "execution_count": 25,
   "id": "cbdb306d",
   "metadata": {},
   "outputs": [
    {
     "data": {
      "text/plain": [
       "{'action': 'GET',\n",
       " 'url': '/api/v1/items?page=3',\n",
       " 'date': '16/Apr/2019:193453+0000',\n",
       " 'request_type': 'HTTP/1.1',\n",
       " 'response': '429',\n",
       " 'file_size': '3561',\n",
       " 'user_agent': 'python-requests/2.21.0',\n",
       " 'ip_address': '97.105.19.58'}"
      ]
     },
     "execution_count": 25,
     "metadata": {},
     "output_type": "execute_result"
    }
   ],
   "source": [
    "#Test the regex against the third log file\n",
    "match3 = re.search(logfile_regex, log3)\n",
    "\n",
    "match3.groupdict()"
   ]
  },
  {
   "cell_type": "code",
   "execution_count": null,
   "id": "a1e9cc86",
   "metadata": {},
   "outputs": [],
   "source": []
  }
 ],
 "metadata": {
  "kernelspec": {
   "display_name": "Python 3 (ipykernel)",
   "language": "python",
   "name": "python3"
  },
  "language_info": {
   "codemirror_mode": {
    "name": "ipython",
    "version": 3
   },
   "file_extension": ".py",
   "mimetype": "text/x-python",
   "name": "python",
   "nbconvert_exporter": "python",
   "pygments_lexer": "ipython3",
   "version": "3.9.12"
  }
 },
 "nbformat": 4,
 "nbformat_minor": 5
}
